{
 "cells": [
  {
   "cell_type": "markdown",
   "metadata": {},
   "source": [
    "# Python for Webscraping\n",
    "* SOC 590: Big Data and Population Processes\n",
    "* 17th October 2016\n",
    "\n",
    "## Tutorial 2: Webscraping with a function"
   ]
  },
  {
   "cell_type": "markdown",
   "metadata": {},
   "source": [
    "# Outline\n",
    "\n",
    "1. Import modules\n",
    "2. Examine html structure of a webpage\n",
    "3. Use Beautiful Soup within a function\n",
    "4. Analyze .csv of webpages as a Pandas DataFrame\n",
    "5. Process data with regular expressions\n",
    "6. Visualize data with Altair\n"
   ]
  },
  {
   "cell_type": "markdown",
   "metadata": {},
   "source": [
    "* import relevant modules\n",
    "* standard library modules:\n",
    "    * [os](https://docs.python.org/3/library/os.html)\n",
    "    * [urllib](https://docs.python.org/3/library/urllib.html)\n",
    "    * [webbrowser](https://docs.python.org/3/library/webbrowser.html)\n",
    "* open source modules:\n",
    "    * [pandas](http://pandas.pydata.org)\n",
    "    * [Beautiful Soup](https://www.crummy.com/software/BeautifulSoup/bs4/doc/)"
   ]
  },
  {
   "cell_type": "code",
   "execution_count": 1,
   "metadata": {
    "collapsed": true
   },
   "outputs": [],
   "source": [
    "import os\n",
    "import urllib\n",
    "import webbrowser\n",
    "import pandas as pd\n",
    "from bs4 import BeautifulSoup"
   ]
  },
  {
   "cell_type": "markdown",
   "metadata": {},
   "source": [
    "* open US News Rankings for Sociology webpage\n",
    "* view page source to see html"
   ]
  },
  {
   "cell_type": "code",
   "execution_count": 2,
   "metadata": {
    "collapsed": false
   },
   "outputs": [
    {
     "data": {
      "text/plain": [
       "True"
      ]
     },
     "execution_count": 2,
     "metadata": {},
     "output_type": "execute_result"
    }
   ],
   "source": [
    "url = 'http://grad-schools.usnews.rankingsandreviews.com/best-graduate-schools/top-humanities-schools/sociology-rankings/page+1'\n",
    "webbrowser.open_new_tab(url)"
   ]
  },
  {
   "cell_type": "markdown",
   "metadata": {},
   "source": [
    "* create a function to extract page data from US News "
   ]
  },
  {
   "cell_type": "code",
   "execution_count": 3,
   "metadata": {
    "collapsed": true
   },
   "outputs": [],
   "source": [
    "def extract_page_data(table_rows):\n",
    "    \"\"\"\n",
    "    Extract and return the the desired information from the td elements within\n",
    "    the table rows.\n",
    "    \"\"\"\n",
    "    # create the empty list to store the player data\n",
    "    # <tr> tag: defines a row in a table \n",
    "    # <td> tag: defines a cell in a table\n",
    "    rows = []\n",
    "    for row in soup.findAll('tr'):\n",
    "        rows.append([val.text for val in row.find_all('td')])\n",
    "        \n",
    "    return rows[1:]\n"
   ]
  },
  {
   "cell_type": "markdown",
   "metadata": {},
   "source": [
    "* make empty lists for US News Rankings and errors"
   ]
  },
  {
   "cell_type": "code",
   "execution_count": 4,
   "metadata": {
    "collapsed": true
   },
   "outputs": [],
   "source": [
    "us_news_rankings = []\n",
    "errors_list = []"
   ]
  },
  {
   "cell_type": "markdown",
   "metadata": {},
   "source": [
    "* go through multiple web pages of US News Rankings "
   ]
  },
  {
   "cell_type": "code",
   "execution_count": 5,
   "metadata": {
    "collapsed": false
   },
   "outputs": [],
   "source": [
    "url_template = 'http://grad-schools.usnews.rankingsandreviews.com/best-graduate-schools/top-humanities-schools/sociology-rankings/page+{page_number}'\n",
    "\n",
    "# for each page from 1 to (and including) 4\n",
    "for page_number in range(1, 5): \n",
    "    \n",
    "    # Use try/except block to catch and inspect any urls that cause an error\n",
    "    try:\n",
    "        # get the webpage url\n",
    "        url = url_template.format(page_number=page_number)\n",
    "\n",
    "        # get the html\n",
    "        html = urllib.request.urlopen(url)\n",
    "\n",
    "        # create the BeautifulSoup object\n",
    "        soup = BeautifulSoup(html, \"lxml\") \n",
    "\n",
    "        # get the column headers\n",
    "        headers = [header.text for header in soup.findAll('th')]\n",
    "        \n",
    "        # start etracting rows\n",
    "        table_rows = soup.select('td')[1:]\n",
    "        \n",
    "        school_data = extract_page_data(table_rows)\n",
    "        \n",
    "        # create the dataframe for the current page\n",
    "        school_df = pd.DataFrame(school_data, columns=headers)\n",
    "        school_df = pd.DataFrame(school_data)\n",
    "\n",
    "        # append the current dataframe to the list of dataframes\n",
    "        us_news_rankings.append(school_df)\n",
    "    \n",
    "    except Exception as e:\n",
    "        # Store the url and the error it causes in a list\n",
    "        error =[url, e] \n",
    "        # then append it to the list of errors\n",
    "        errors_list.append(error)\n",
    "    "
   ]
  },
  {
   "cell_type": "markdown",
   "metadata": {},
   "source": [
    "* view possible urls that returned errors"
   ]
  },
  {
   "cell_type": "code",
   "execution_count": 6,
   "metadata": {
    "collapsed": false
   },
   "outputs": [
    {
     "name": "stdout",
     "output_type": "stream",
     "text": [
      "0\n"
     ]
    },
    {
     "data": {
      "text/plain": [
       "[]"
      ]
     },
     "execution_count": 6,
     "metadata": {},
     "output_type": "execute_result"
    }
   ],
   "source": [
    "print(len(errors_list))\n",
    "errors_list"
   ]
  },
  {
   "cell_type": "markdown",
   "metadata": {},
   "source": [
    "* view list of appended dataframes\n",
    "* concatenate dataframes into one .csv "
   ]
  },
  {
   "cell_type": "code",
   "execution_count": 7,
   "metadata": {
    "collapsed": false
   },
   "outputs": [
    {
     "data": {
      "text/plain": [
       "[                                                0  \\\n",
       " 0    \\n\\n#1Tie\\n\\n\\nOverall Score: \\n\\n\\n\\n\\n\\n\\n   \n",
       " 1    \\n\\n#1Tie\\n\\n\\nOverall Score: \\n\\n\\n\\n\\n\\n\\n   \n",
       " 2    \\n\\n#1Tie\\n\\n\\nOverall Score: \\n\\n\\n\\n\\n\\n\\n   \n",
       " 3                 \\n\\ndblclick('rankingsEmbed')\\n   \n",
       " 4    \\n\\n#4Tie\\n\\n\\nOverall Score: \\n\\n\\n\\n\\n\\n\\n   \n",
       " 5    \\n\\n#4Tie\\n\\n\\nOverall Score: \\n\\n\\n\\n\\n\\n\\n   \n",
       " 6    \\n\\n#6Tie\\n\\n\\nOverall Score: \\n\\n\\n\\n\\n\\n\\n   \n",
       " 7    \\n\\n#6Tie\\n\\n\\nOverall Score: \\n\\n\\n\\n\\n\\n\\n   \n",
       " 8    \\n\\n#6Tie\\n\\n\\nOverall Score: \\n\\n\\n\\n\\n\\n\\n   \n",
       " 9       \\n\\n#9\\n\\n\\nOverall Score: \\n\\n\\n\\n\\n\\n\\n   \n",
       " 10  \\n\\n#10Tie\\n\\n\\nOverall Score: \\n\\n\\n\\n\\n\\n\\n   \n",
       " 11  \\n\\n#10Tie\\n\\n\\nOverall Score: \\n\\n\\n\\n\\n\\n\\n   \n",
       " 12  \\n\\n#12Tie\\n\\n\\nOverall Score: \\n\\n\\n\\n\\n\\n\\n   \n",
       " 13  \\n\\n#12Tie\\n\\n\\nOverall Score: \\n\\n\\n\\n\\n\\n\\n   \n",
       " 14  \\n\\n#14Tie\\n\\n\\nOverall Score: \\n\\n\\n\\n\\n\\n\\n   \n",
       " 15  \\n\\n#14Tie\\n\\n\\nOverall Score: \\n\\n\\n\\n\\n\\n\\n   \n",
       " 16     \\n\\n#16\\n\\n\\nOverall Score: \\n\\n\\n\\n\\n\\n\\n   \n",
       " 17  \\n\\n#17Tie\\n\\n\\nOverall Score: \\n\\n\\n\\n\\n\\n\\n   \n",
       " 18  \\n\\n#17Tie\\n\\n\\nOverall Score: \\n\\n\\n\\n\\n\\n\\n   \n",
       " 19  \\n\\n#17Tie\\n\\n\\nOverall Score: \\n\\n\\n\\n\\n\\n\\n   \n",
       " 20  \\n\\n#20Tie\\n\\n\\nOverall Score: \\n\\n\\n\\n\\n\\n\\n   \n",
       " 21  \\n\\n#20Tie\\n\\n\\nOverall Score: \\n\\n\\n\\n\\n\\n\\n   \n",
       " 22  \\n\\n#20Tie\\n\\n\\nOverall Score: \\n\\n\\n\\n\\n\\n\\n   \n",
       " 23  \\n\\n#20Tie\\n\\n\\nOverall Score: \\n\\n\\n\\n\\n\\n\\n   \n",
       " 24     \\n\\n#24\\n\\n\\nOverall Score: \\n\\n\\n\\n\\n\\n\\n   \n",
       " 25  \\n\\n#25Tie\\n\\n\\nOverall Score: \\n\\n\\n\\n\\n\\n\\n   \n",
       " \n",
       "                                                     1  \\\n",
       " 0          \\nPrinceton University \\n\\nPrinceton, NJ\\n   \n",
       " 1   \\nUniversity of California—​Berkeley \\n\\nBerke...   \n",
       " 2   \\nUniversity of Wisconsin—​Madison \\n\\nMadison...   \n",
       " 3                                                None   \n",
       " 4            \\nStanford University \\n\\nStanford, CA\\n   \n",
       " 5   \\nUniversity of Michigan—​Ann Arbor \\n\\nAnn Ar...   \n",
       " 6            \\nHarvard University \\n\\nCambridge, MA\\n   \n",
       " 7           \\nUniversity of Chicago \\n\\nChicago, IL\\n   \n",
       " 8   \\nUniversity of North Carolina—​Chapel Hill \\n...   \n",
       " 9   \\nUniversity of California—​Los Angeles \\n\\nLo...   \n",
       " 10       \\nNorthwestern University \\n\\nEvanston, IL\\n   \n",
       " 11  \\nUniversity of Pennsylvania \\n\\nPhiladelphia,...   \n",
       " 12           \\nColumbia University \\n\\nNew York, NY\\n   \n",
       " 13  \\nIndiana University—​Bloomington \\n\\nBlooming...   \n",
       " 14                 \\nDuke University \\n\\nDurham, NC\\n   \n",
       " 15     \\nUniversity of Texas—​Austin \\n\\nAustin, TX\\n   \n",
       " 16           \\nNew York University \\n\\nNew York, NY\\n   \n",
       " 17              \\nCornell University \\n\\nIthaca, NY\\n   \n",
       " 18         \\nOhio State University \\n\\nColumbus, OH\\n   \n",
       " 19  \\nPennsylvania State University—​University Pa...   \n",
       " 20           \\nUniversity of Arizona \\n\\nTucson, AZ\\n   \n",
       " 21  \\nUniversity of Minnesota—​Twin Cities \\n\\nMin...   \n",
       " 22       \\nUniversity of Washington \\n\\nSeattle, WA\\n   \n",
       " 23              \\nYale University \\n\\nNew Haven, CT\\n   \n",
       " 24  \\nUniversity of Maryland—​College Park \\n\\nCol...   \n",
       " 25            \\nBrown University \\n\\nProvidence, RI\\n   \n",
       " \n",
       "                                                     2  \n",
       " 0   \\n\\n                \\n\\n                \\n\\n  ...  \n",
       " 1   \\n\\n                \\n\\n                \\n\\n  ...  \n",
       " 2   \\n\\n                \\n\\n                \\n\\n  ...  \n",
       " 3                                                None  \n",
       " 4   \\n\\n                \\n\\n                \\n\\n  ...  \n",
       " 5   \\n\\n                \\n\\n                \\n\\n  ...  \n",
       " 6   \\n\\n                \\n\\n                \\n\\n  ...  \n",
       " 7   \\n\\n                \\n\\n                \\n\\n  ...  \n",
       " 8   \\n\\n                \\n\\n                \\n\\n  ...  \n",
       " 9   \\n\\n                \\n\\n                \\n\\n  ...  \n",
       " 10  \\n\\n                \\n\\n                \\n\\n  ...  \n",
       " 11  \\n\\n                \\n\\n                \\n\\n  ...  \n",
       " 12  \\n\\n                \\n\\n                \\n\\n  ...  \n",
       " 13  \\n\\n                \\n\\n                \\n\\n  ...  \n",
       " 14  \\n\\n                \\n\\n                \\n\\n  ...  \n",
       " 15  \\n\\n                \\n\\n                \\n\\n  ...  \n",
       " 16  \\n\\n                \\n\\n                \\n\\n  ...  \n",
       " 17  \\n\\n                \\n\\n                \\n\\n  ...  \n",
       " 18  \\n\\n                \\n\\n                \\n\\n  ...  \n",
       " 19  \\n\\n                \\n\\n                \\n\\n  ...  \n",
       " 20  \\n\\n                \\n\\n                \\n\\n  ...  \n",
       " 21  \\n\\n                \\n\\n                \\n\\n  ...  \n",
       " 22  \\n\\n                \\n\\n                \\n\\n  ...  \n",
       " 23  \\n\\n                \\n\\n                \\n\\n  ...  \n",
       " 24  \\n\\n                \\n\\n                \\n\\n  ...  \n",
       " 25  \\n\\n                \\n\\n                \\n\\n  ...  ,\n",
       "                                                 0  \\\n",
       " 0   \\n\\n#25Tie\\n\\n\\nOverall Score: \\n\\n\\n\\n\\n\\n\\n   \n",
       " 1      \\n\\n#27\\n\\n\\nOverall Score: \\n\\n\\n\\n\\n\\n\\n   \n",
       " 2   \\n\\n#28Tie\\n\\n\\nOverall Score: \\n\\n\\n\\n\\n\\n\\n   \n",
       " 3                 \\n\\ndblclick('rankingsEmbed')\\n   \n",
       " 4   \\n\\n#28Tie\\n\\n\\nOverall Score: \\n\\n\\n\\n\\n\\n\\n   \n",
       " 5   \\n\\n#28Tie\\n\\n\\nOverall Score: \\n\\n\\n\\n\\n\\n\\n   \n",
       " 6   \\n\\n#31Tie\\n\\n\\nOverall Score: \\n\\n\\n\\n\\n\\n\\n   \n",
       " 7   \\n\\n#31Tie\\n\\n\\nOverall Score: \\n\\n\\n\\n\\n\\n\\n   \n",
       " 8   \\n\\n#31Tie\\n\\n\\nOverall Score: \\n\\n\\n\\n\\n\\n\\n   \n",
       " 9   \\n\\n#31Tie\\n\\n\\nOverall Score: \\n\\n\\n\\n\\n\\n\\n   \n",
       " 10  \\n\\n#35Tie\\n\\n\\nOverall Score: \\n\\n\\n\\n\\n\\n\\n   \n",
       " 11  \\n\\n#35Tie\\n\\n\\nOverall Score: \\n\\n\\n\\n\\n\\n\\n   \n",
       " 12  \\n\\n#35Tie\\n\\n\\nOverall Score: \\n\\n\\n\\n\\n\\n\\n   \n",
       " 13  \\n\\n#35Tie\\n\\n\\nOverall Score: \\n\\n\\n\\n\\n\\n\\n   \n",
       " 14  \\n\\n#39Tie\\n\\n\\nOverall Score: \\n\\n\\n\\n\\n\\n\\n   \n",
       " 15  \\n\\n#39Tie\\n\\n\\nOverall Score: \\n\\n\\n\\n\\n\\n\\n   \n",
       " 16  \\n\\n#39Tie\\n\\n\\nOverall Score: \\n\\n\\n\\n\\n\\n\\n   \n",
       " 17  \\n\\n#42Tie\\n\\n\\nOverall Score: \\n\\n\\n\\n\\n\\n\\n   \n",
       " 18  \\n\\n#42Tie\\n\\n\\nOverall Score: \\n\\n\\n\\n\\n\\n\\n   \n",
       " 19  \\n\\n#42Tie\\n\\n\\nOverall Score: \\n\\n\\n\\n\\n\\n\\n   \n",
       " 20  \\n\\n#42Tie\\n\\n\\nOverall Score: \\n\\n\\n\\n\\n\\n\\n   \n",
       " 21  \\n\\n#46Tie\\n\\n\\nOverall Score: \\n\\n\\n\\n\\n\\n\\n   \n",
       " 22  \\n\\n#46Tie\\n\\n\\nOverall Score: \\n\\n\\n\\n\\n\\n\\n   \n",
       " 23  \\n\\n#46Tie\\n\\n\\nOverall Score: \\n\\n\\n\\n\\n\\n\\n   \n",
       " 24  \\n\\n#46Tie\\n\\n\\nOverall Score: \\n\\n\\n\\n\\n\\n\\n   \n",
       " 25  \\n\\n#46Tie\\n\\n\\nOverall Score: \\n\\n\\n\\n\\n\\n\\n   \n",
       " \n",
       "                                                     1  \\\n",
       " 0   \\nUniversity of California—​Irvine \\n\\nIrvine,...   \n",
       " 1      \\nJohns Hopkins University \\n\\nBaltimore, MD\\n   \n",
       " 2   \\nCUNY Graduate School and University Center \\...   \n",
       " 3                                                None   \n",
       " 4   \\nRutgers, The State University of New Jersey—...   \n",
       " 5       \\nUniversity at Albany—​SUNY \\n\\nAlbany, NY\\n   \n",
       " 6   \\nUniversity of California—​Davis \\n\\nDavis, CA\\n   \n",
       " 7   \\nUniversity of California—​Santa Barbara \\n\\n...   \n",
       " 8   \\nUniversity of Massachusetts—​Amherst \\n\\nAmh...   \n",
       " 9         \\nVanderbilt University \\n\\nNashville, TN\\n   \n",
       " 10               \\nEmory University \\n\\nAtlanta, GA\\n   \n",
       " 11  \\nUniversity of California—​San Diego \\n\\nLa J...   \n",
       " 12           \\nUniversity of Iowa \\n\\nIowa City, IA\\n   \n",
       " 13  \\nUniversity of Virginia \\n\\nCharlottesville, ...   \n",
       " 14   \\nFlorida State University \\n\\nTallahassee, FL\\n   \n",
       " 15  \\nUniversity of Illinois—​Chicago \\n\\nChicago,...   \n",
       " 16  \\nUniversity of Southern California \\n\\nLos An...   \n",
       " 17  \\nStony Brook University—​SUNY \\n\\nStony Brook...   \n",
       " 18  \\nUniversity of California—​Riverside \\n\\nRive...   \n",
       " 19  \\nUniversity of Illinois—​Urbana-​Champaign \\n...   \n",
       " 20    \\nUniversity of Notre Dame \\n\\nNotre Dame, IN\\n   \n",
       " 21           \\nBoston College \\n\\nChestnut Hill, MA\\n   \n",
       " 22  \\nMichigan State University \\n\\nEast Lansing, ...   \n",
       " 23  \\nTexas A&M University—​College Station \\n\\nCo...   \n",
       " 24  \\nUniversity of Colorado—​Boulder \\n\\nBoulder,...   \n",
       " 25           \\nUniversity of Georgia \\n\\nAthens, GA\\n   \n",
       " \n",
       "                                                     2  \n",
       " 0   \\n\\n                \\n\\n                \\n\\n  ...  \n",
       " 1   \\n\\n                \\n\\n                \\n\\n  ...  \n",
       " 2   \\n\\n                \\n\\n                \\n\\n  ...  \n",
       " 3                                                None  \n",
       " 4   \\n\\n                \\n\\n                \\n\\n  ...  \n",
       " 5   \\n\\n                \\n\\n                \\n\\n  ...  \n",
       " 6   \\n\\n                \\n\\n                \\n\\n  ...  \n",
       " 7   \\n\\n                \\n\\n                \\n\\n  ...  \n",
       " 8   \\n\\n                \\n\\n                \\n\\n  ...  \n",
       " 9   \\n\\n                \\n\\n                \\n\\n  ...  \n",
       " 10  \\n\\n                \\n\\n                \\n\\n  ...  \n",
       " 11  \\n\\n                \\n\\n                \\n\\n  ...  \n",
       " 12  \\n\\n                \\n\\n                \\n\\n  ...  \n",
       " 13  \\n\\n                \\n\\n                \\n\\n  ...  \n",
       " 14  \\n\\n                \\n\\n                \\n\\n  ...  \n",
       " 15  \\n\\n                \\n\\n                \\n\\n  ...  \n",
       " 16  \\n\\n                \\n\\n                \\n\\n  ...  \n",
       " 17  \\n\\n                \\n\\n                \\n\\n  ...  \n",
       " 18  \\n\\n                \\n\\n                \\n\\n  ...  \n",
       " 19  \\n\\n                \\n\\n                \\n\\n  ...  \n",
       " 20  \\n\\n                \\n\\n                \\n\\n  ...  \n",
       " 21  \\n\\n                \\n\\n                \\n\\n  ...  \n",
       " 22  \\n\\n                \\n\\n                \\n\\n  ...  \n",
       " 23  \\n\\n                \\n\\n                \\n\\n  ...  \n",
       " 24  \\n\\n                \\n\\n                \\n\\n  ...  \n",
       " 25  \\n\\n                \\n\\n                \\n\\n  ...  ,\n",
       "                                                 0  \\\n",
       " 0   \\n\\n#46Tie\\n\\n\\nOverall Score: \\n\\n\\n\\n\\n\\n\\n   \n",
       " 1   \\n\\n#52Tie\\n\\n\\nOverall Score: \\n\\n\\n\\n\\n\\n\\n   \n",
       " 2   \\n\\n#52Tie\\n\\n\\nOverall Score: \\n\\n\\n\\n\\n\\n\\n   \n",
       " 3                 \\n\\ndblclick('rankingsEmbed')\\n   \n",
       " 4   \\n\\n#52Tie\\n\\n\\nOverall Score: \\n\\n\\n\\n\\n\\n\\n   \n",
       " 5   \\n\\n#52Tie\\n\\n\\nOverall Score: \\n\\n\\n\\n\\n\\n\\n   \n",
       " 6   \\n\\n#52Tie\\n\\n\\nOverall Score: \\n\\n\\n\\n\\n\\n\\n   \n",
       " 7   \\n\\n#52Tie\\n\\n\\nOverall Score: \\n\\n\\n\\n\\n\\n\\n   \n",
       " 8   \\n\\n#52Tie\\n\\n\\nOverall Score: \\n\\n\\n\\n\\n\\n\\n   \n",
       " 9   \\n\\n#59Tie\\n\\n\\nOverall Score: \\n\\n\\n\\n\\n\\n\\n   \n",
       " 10  \\n\\n#59Tie\\n\\n\\nOverall Score: \\n\\n\\n\\n\\n\\n\\n   \n",
       " 11  \\n\\n#59Tie\\n\\n\\nOverall Score: \\n\\n\\n\\n\\n\\n\\n   \n",
       " 12  \\n\\n#59Tie\\n\\n\\nOverall Score: \\n\\n\\n\\n\\n\\n\\n   \n",
       " 13  \\n\\n#59Tie\\n\\n\\nOverall Score: \\n\\n\\n\\n\\n\\n\\n   \n",
       " 14  \\n\\n#64Tie\\n\\n\\nOverall Score: \\n\\n\\n\\n\\n\\n\\n   \n",
       " 15  \\n\\n#64Tie\\n\\n\\nOverall Score: \\n\\n\\n\\n\\n\\n\\n   \n",
       " 16  \\n\\n#64Tie\\n\\n\\nOverall Score: \\n\\n\\n\\n\\n\\n\\n   \n",
       " 17  \\n\\n#64Tie\\n\\n\\nOverall Score: \\n\\n\\n\\n\\n\\n\\n   \n",
       " 18  \\n\\n#64Tie\\n\\n\\nOverall Score: \\n\\n\\n\\n\\n\\n\\n   \n",
       " 19  \\n\\n#69Tie\\n\\n\\nOverall Score: \\n\\n\\n\\n\\n\\n\\n   \n",
       " 20  \\n\\n#69Tie\\n\\n\\nOverall Score: \\n\\n\\n\\n\\n\\n\\n   \n",
       " 21  \\n\\n#69Tie\\n\\n\\nOverall Score: \\n\\n\\n\\n\\n\\n\\n   \n",
       " 22  \\n\\n#69Tie\\n\\n\\nOverall Score: \\n\\n\\n\\n\\n\\n\\n   \n",
       " 23  \\n\\n#69Tie\\n\\n\\nOverall Score: \\n\\n\\n\\n\\n\\n\\n   \n",
       " 24  \\n\\n#74Tie\\n\\n\\nOverall Score: \\n\\n\\n\\n\\n\\n\\n   \n",
       " 25  \\n\\n#74Tie\\n\\n\\nOverall Score: \\n\\n\\n\\n\\n\\n\\n   \n",
       " \n",
       "                                                     1  \\\n",
       " 0     \\nWashington State University \\n\\nPullman, WA\\n   \n",
       " 1             \\nBrandeis University \\n\\nWaltham, MA\\n   \n",
       " 2   \\nNorth Carolina State University \\n\\nRaleigh,...   \n",
       " 3                                                None   \n",
       " 4   \\nPurdue University—​West Lafayette \\n\\nWest L...   \n",
       " 5   \\nUniversity of California—​San Francisco \\n\\n...   \n",
       " 6        \\nUniversity of Connecticut \\n\\nStorrs, CT\\n   \n",
       " 7       \\nUniversity of Florida \\n\\nGainesville, FL\\n   \n",
       " 8     \\nUniversity of Pittsburgh \\n\\nPittsburgh, PA\\n   \n",
       " 9          \\nArizona State University \\n\\nTempe, AZ\\n   \n",
       " 10               \\nBoston University \\n\\nBoston, MA\\n   \n",
       " 11                    \\nNew School \\n\\nNew York, NY\\n   \n",
       " 12  \\nUniversity of California—​Santa Cruz \\n\\nSan...   \n",
       " 13            \\nUniversity of Oregon \\n\\nEugene, OR\\n   \n",
       " 14  \\nBowling Green State University \\n\\nBowling G...   \n",
       " 15         \\nNortheastern University \\n\\nBoston, MA\\n   \n",
       " 16         \\nTemple University \\n\\nPhiladelphia, PA\\n   \n",
       " 17          \\nUniversity of Delaware \\n\\nNewark, DE\\n   \n",
       " 18          \\nUniversity of Kansas \\n\\nLawrence, KS\\n   \n",
       " 19  \\nBinghamton University—​SUNY \\n\\nBinghamton, ...   \n",
       " 20           \\nSyracuse University \\n\\nSyracuse, NY\\n   \n",
       " 21  \\nUniversity of Nebraska—​Lincoln \\n\\nLincoln,...   \n",
       " 22  \\nUniversity of South Carolina \\n\\nColumbia, SC\\n   \n",
       " 23               \\nVirginia Tech \\n\\nBlacksburg, VA\\n   \n",
       " 24             \\nIowa State University \\n\\nAmes, IA\\n   \n",
       " 25  \\nTeachers College, Columbia University \\n\\nNe...   \n",
       " \n",
       "                                                     2  \n",
       " 0   \\n\\n                \\n\\n                \\n\\n  ...  \n",
       " 1   \\n\\n                \\n\\n                \\n\\n  ...  \n",
       " 2   \\n\\n                \\n\\n                \\n\\n  ...  \n",
       " 3                                                None  \n",
       " 4   \\n\\n                \\n\\n                \\n\\n  ...  \n",
       " 5   \\n\\n                \\n\\n                \\n\\n  ...  \n",
       " 6   \\n\\n                \\n\\n                \\n\\n  ...  \n",
       " 7   \\n\\n                \\n\\n                \\n\\n  ...  \n",
       " 8   \\n\\n                \\n\\n                \\n\\n  ...  \n",
       " 9   \\n\\n                \\n\\n                \\n\\n  ...  \n",
       " 10  \\n\\n                \\n\\n                \\n\\n  ...  \n",
       " 11  \\n\\n                \\n\\n                \\n\\n  ...  \n",
       " 12  \\n\\n                \\n\\n                \\n\\n  ...  \n",
       " 13  \\n\\n                \\n\\n                \\n\\n  ...  \n",
       " 14  \\n\\n                \\n\\n                \\n\\n  ...  \n",
       " 15  \\n\\n                \\n\\n                \\n\\n  ...  \n",
       " 16  \\n\\n                \\n\\n                \\n\\n  ...  \n",
       " 17  \\n\\n                \\n\\n                \\n\\n  ...  \n",
       " 18  \\n\\n                \\n\\n                \\n\\n  ...  \n",
       " 19  \\n\\n                \\n\\n                \\n\\n  ...  \n",
       " 20  \\n\\n                \\n\\n                \\n\\n  ...  \n",
       " 21  \\n\\n                \\n\\n                \\n\\n  ...  \n",
       " 22  \\n\\n                \\n\\n                \\n\\n  ...  \n",
       " 23  \\n\\n                \\n\\n                \\n\\n  ...  \n",
       " 24  \\n\\n                \\n\\n                \\n\\n  ...  \n",
       " 25  \\n\\n                \\n\\n                \\n\\n  ...  ,\n",
       "                                                     0  \\\n",
       " 0       \\n\\n#76Tie\\n\\n\\nOverall Score: \\n\\n\\n\\n\\n\\n\\n   \n",
       " 1       \\n\\n#76Tie\\n\\n\\nOverall Score: \\n\\n\\n\\n\\n\\n\\n   \n",
       " 2       \\n\\n#78Tie\\n\\n\\nOverall Score: \\n\\n\\n\\n\\n\\n\\n   \n",
       " 3                     \\n\\ndblclick('rankingsEmbed')\\n   \n",
       " 4       \\n\\n#78Tie\\n\\n\\nOverall Score: \\n\\n\\n\\n\\n\\n\\n   \n",
       " 5       \\n\\n#78Tie\\n\\n\\nOverall Score: \\n\\n\\n\\n\\n\\n\\n   \n",
       " 6       \\n\\n#78Tie\\n\\n\\nOverall Score: \\n\\n\\n\\n\\n\\n\\n   \n",
       " 7       \\n\\n#78Tie\\n\\n\\nOverall Score: \\n\\n\\n\\n\\n\\n\\n   \n",
       " 8       \\n\\n#78Tie\\n\\n\\nOverall Score: \\n\\n\\n\\n\\n\\n\\n   \n",
       " 9       \\n\\n#84Tie\\n\\n\\nOverall Score: \\n\\n\\n\\n\\n\\n\\n   \n",
       " 10      \\n\\n#84Tie\\n\\n\\nOverall Score: \\n\\n\\n\\n\\n\\n\\n   \n",
       " 11      \\n\\n#84Tie\\n\\n\\nOverall Score: \\n\\n\\n\\n\\n\\n\\n   \n",
       " 12      \\n\\n#84Tie\\n\\n\\nOverall Score: \\n\\n\\n\\n\\n\\n\\n   \n",
       " 13      \\n\\n#84Tie\\n\\n\\nOverall Score: \\n\\n\\n\\n\\n\\n\\n   \n",
       " 14      \\n\\n#84Tie\\n\\n\\nOverall Score: \\n\\n\\n\\n\\n\\n\\n   \n",
       " 15      \\n\\n#84Tie\\n\\n\\nOverall Score: \\n\\n\\n\\n\\n\\n\\n   \n",
       " 16      \\n\\n#84Tie\\n\\n\\nOverall Score: \\n\\n\\n\\n\\n\\n\\n   \n",
       " 17      \\n\\n#84Tie\\n\\n\\nOverall Score: \\n\\n\\n\\n\\n\\n\\n   \n",
       " 18      \\n\\n#84Tie\\n\\n\\nOverall Score: \\n\\n\\n\\n\\n\\n\\n   \n",
       " 19      \\n\\n#94Tie\\n\\n\\nOverall Score: \\n\\n\\n\\n\\n\\n\\n   \n",
       " 20      \\n\\n#94Tie\\n\\n\\nOverall Score: \\n\\n\\n\\n\\n\\n\\n   \n",
       " 21      \\n\\n#94Tie\\n\\n\\nOverall Score: \\n\\n\\n\\n\\n\\n\\n   \n",
       " 22      \\n\\n#94Tie\\n\\n\\nOverall Score: \\n\\n\\n\\n\\n\\n\\n   \n",
       " 23      \\n\\n#94Tie\\n\\n\\nOverall Score: \\n\\n\\n\\n\\n\\n\\n   \n",
       " 24      \\n\\n#94Tie\\n\\n\\nOverall Score: \\n\\n\\n\\n\\n\\n\\n   \n",
       " 25  \\n\\n                RNP\\n                \\n   ...   \n",
       " \n",
       "                                                     1  \\\n",
       " 0        \\nGeorgia State University \\n\\nAtlanta, GA\\n   \n",
       " 1   \\nLouisiana State University—​Baton Rouge \\n\\n...   \n",
       " 2   \\nCase Western Reserve University \\n\\nClevelan...   \n",
       " 3                                                None   \n",
       " 4       \\nLoyola University Chicago \\n\\nChicago, IL\\n   \n",
       " 5           \\nTulane University \\n\\nNew Orleans, LA\\n   \n",
       " 6     \\nUniversity at Buffalo—​SUNY \\n\\nBuffalo, NY\\n   \n",
       " 7         \\nUniversity of Missouri \\n\\nColumbia, MO\\n   \n",
       " 8    \\nUniversity of New Mexico \\n\\nAlbuquerque, NM\\n   \n",
       " 9          \\nAmerican University \\n\\nWashington, DC\\n   \n",
       " 10                 \\nBaylor University \\n\\nWaco, TX\\n   \n",
       " 11  \\nColorado State University \\n\\nFort Collins, ...   \n",
       " 12           \\nHoward University \\n\\nWashington, DC\\n   \n",
       " 13             \\nKent State University \\n\\nKent, OH\\n   \n",
       " 14  \\nSouthern Illinois University—​Carbondale \\n\\...   \n",
       " 15       \\nUniversity of Kentucky \\n\\nLexington, KY\\n   \n",
       " 16       \\nUniversity of Miami \\n\\nCoral Gables, FL\\n   \n",
       " 17     \\nUniversity of New Hampshire \\n\\nDurham, NH\\n   \n",
       " 18  \\nUniversity of Tennessee—​Knoxville \\n\\nKnoxv...   \n",
       " 19  \\nBrigham Young University—​Provo \\n\\nProvo, UT\\n   \n",
       " 20               \\nFordham University \\n\\nBronx, NY\\n   \n",
       " 21  \\nUniversity of Alabama—​Birmingham \\n\\nBirmin...   \n",
       " 22    \\nUniversity of Cincinnati \\n\\nCincinnati, OH\\n   \n",
       " 23  \\nUniversity of Nevada—​Las Vegas \\n\\nLas Vega...   \n",
       " 24          \\nUniversity of Oklahoma \\n\\nNorman, OK\\n   \n",
       " 25  \\nThe Catholic University of America \\n\\nWashi...   \n",
       " \n",
       "                                                     2  \n",
       " 0   \\n\\n                \\n\\n                \\n\\n  ...  \n",
       " 1   \\n\\n                \\n\\n                \\n\\n  ...  \n",
       " 2   \\n\\n                \\n\\n                \\n\\n  ...  \n",
       " 3                                                None  \n",
       " 4   \\n\\n                \\n\\n                \\n\\n  ...  \n",
       " 5   \\n\\n                \\n\\n                \\n\\n  ...  \n",
       " 6   \\n\\n                \\n\\n                \\n\\n  ...  \n",
       " 7   \\n\\n                \\n\\n                \\n\\n  ...  \n",
       " 8   \\n\\n                \\n\\n                \\n\\n  ...  \n",
       " 9   \\n\\n                \\n\\n                \\n\\n  ...  \n",
       " 10  \\n\\n                \\n\\n                \\n\\n  ...  \n",
       " 11  \\n\\n                \\n\\n                \\n\\n  ...  \n",
       " 12  \\n\\n                \\n\\n                \\n\\n  ...  \n",
       " 13  \\n\\n                \\n\\n                \\n\\n  ...  \n",
       " 14  \\n\\n                \\n\\n                \\n\\n  ...  \n",
       " 15  \\n\\n                \\n\\n                \\n\\n  ...  \n",
       " 16  \\n\\n                \\n\\n                \\n\\n  ...  \n",
       " 17  \\n\\n                \\n\\n                \\n\\n  ...  \n",
       " 18  \\n\\n                \\n\\n                \\n\\n  ...  \n",
       " 19  \\n\\n                \\n\\n                \\n\\n  ...  \n",
       " 20  \\n\\n                \\n\\n                \\n\\n  ...  \n",
       " 21  \\n\\n                \\n\\n                \\n\\n  ...  \n",
       " 22  \\n\\n                \\n\\n                \\n\\n  ...  \n",
       " 23  \\n\\n                \\n\\n                \\n\\n  ...  \n",
       " 24  \\n\\n                \\n\\n                \\n\\n  ...  \n",
       " 25  \\n\\n                \\n\\n                \\n\\n  ...  ]"
      ]
     },
     "execution_count": 7,
     "metadata": {},
     "output_type": "execute_result"
    }
   ],
   "source": [
    "us_news_rankings"
   ]
  },
  {
   "cell_type": "code",
   "execution_count": 8,
   "metadata": {
    "collapsed": false
   },
   "outputs": [],
   "source": [
    "us_news_df_raw = pd.concat(us_news_rankings, axis=0)\n",
    "column_headers = [\"rank\", \"school\", \"score\"]\n",
    "us_news_df_raw.columns = column_headers"
   ]
  },
  {
   "cell_type": "code",
   "execution_count": 9,
   "metadata": {
    "collapsed": false
   },
   "outputs": [
    {
     "data": {
      "text/html": [
       "<div>\n",
       "<table border=\"1\" class=\"dataframe\">\n",
       "  <thead>\n",
       "    <tr style=\"text-align: right;\">\n",
       "      <th></th>\n",
       "      <th>rank</th>\n",
       "      <th>school</th>\n",
       "      <th>score</th>\n",
       "    </tr>\n",
       "  </thead>\n",
       "  <tbody>\n",
       "    <tr>\n",
       "      <th>0</th>\n",
       "      <td>\\n\\n#1Tie\\n\\n\\nOverall Score: \\n\\n\\n\\n\\n\\n\\n</td>\n",
       "      <td>\\nPrinceton University \\n\\nPrinceton, NJ\\n</td>\n",
       "      <td>\\n\\n                \\n\\n                \\n\\n  ...</td>\n",
       "    </tr>\n",
       "    <tr>\n",
       "      <th>1</th>\n",
       "      <td>\\n\\n#1Tie\\n\\n\\nOverall Score: \\n\\n\\n\\n\\n\\n\\n</td>\n",
       "      <td>\\nUniversity of California—​Berkeley \\n\\nBerke...</td>\n",
       "      <td>\\n\\n                \\n\\n                \\n\\n  ...</td>\n",
       "    </tr>\n",
       "    <tr>\n",
       "      <th>2</th>\n",
       "      <td>\\n\\n#1Tie\\n\\n\\nOverall Score: \\n\\n\\n\\n\\n\\n\\n</td>\n",
       "      <td>\\nUniversity of Wisconsin—​Madison \\n\\nMadison...</td>\n",
       "      <td>\\n\\n                \\n\\n                \\n\\n  ...</td>\n",
       "    </tr>\n",
       "    <tr>\n",
       "      <th>3</th>\n",
       "      <td>\\n\\ndblclick('rankingsEmbed')\\n</td>\n",
       "      <td>None</td>\n",
       "      <td>None</td>\n",
       "    </tr>\n",
       "    <tr>\n",
       "      <th>4</th>\n",
       "      <td>\\n\\n#4Tie\\n\\n\\nOverall Score: \\n\\n\\n\\n\\n\\n\\n</td>\n",
       "      <td>\\nStanford University \\n\\nStanford, CA\\n</td>\n",
       "      <td>\\n\\n                \\n\\n                \\n\\n  ...</td>\n",
       "    </tr>\n",
       "    <tr>\n",
       "      <th>5</th>\n",
       "      <td>\\n\\n#4Tie\\n\\n\\nOverall Score: \\n\\n\\n\\n\\n\\n\\n</td>\n",
       "      <td>\\nUniversity of Michigan—​Ann Arbor \\n\\nAnn Ar...</td>\n",
       "      <td>\\n\\n                \\n\\n                \\n\\n  ...</td>\n",
       "    </tr>\n",
       "    <tr>\n",
       "      <th>6</th>\n",
       "      <td>\\n\\n#6Tie\\n\\n\\nOverall Score: \\n\\n\\n\\n\\n\\n\\n</td>\n",
       "      <td>\\nHarvard University \\n\\nCambridge, MA\\n</td>\n",
       "      <td>\\n\\n                \\n\\n                \\n\\n  ...</td>\n",
       "    </tr>\n",
       "    <tr>\n",
       "      <th>7</th>\n",
       "      <td>\\n\\n#6Tie\\n\\n\\nOverall Score: \\n\\n\\n\\n\\n\\n\\n</td>\n",
       "      <td>\\nUniversity of Chicago \\n\\nChicago, IL\\n</td>\n",
       "      <td>\\n\\n                \\n\\n                \\n\\n  ...</td>\n",
       "    </tr>\n",
       "    <tr>\n",
       "      <th>8</th>\n",
       "      <td>\\n\\n#6Tie\\n\\n\\nOverall Score: \\n\\n\\n\\n\\n\\n\\n</td>\n",
       "      <td>\\nUniversity of North Carolina—​Chapel Hill \\n...</td>\n",
       "      <td>\\n\\n                \\n\\n                \\n\\n  ...</td>\n",
       "    </tr>\n",
       "    <tr>\n",
       "      <th>9</th>\n",
       "      <td>\\n\\n#9\\n\\n\\nOverall Score: \\n\\n\\n\\n\\n\\n\\n</td>\n",
       "      <td>\\nUniversity of California—​Los Angeles \\n\\nLo...</td>\n",
       "      <td>\\n\\n                \\n\\n                \\n\\n  ...</td>\n",
       "    </tr>\n",
       "  </tbody>\n",
       "</table>\n",
       "</div>"
      ],
      "text/plain": [
       "                                           rank  \\\n",
       "0  \\n\\n#1Tie\\n\\n\\nOverall Score: \\n\\n\\n\\n\\n\\n\\n   \n",
       "1  \\n\\n#1Tie\\n\\n\\nOverall Score: \\n\\n\\n\\n\\n\\n\\n   \n",
       "2  \\n\\n#1Tie\\n\\n\\nOverall Score: \\n\\n\\n\\n\\n\\n\\n   \n",
       "3               \\n\\ndblclick('rankingsEmbed')\\n   \n",
       "4  \\n\\n#4Tie\\n\\n\\nOverall Score: \\n\\n\\n\\n\\n\\n\\n   \n",
       "5  \\n\\n#4Tie\\n\\n\\nOverall Score: \\n\\n\\n\\n\\n\\n\\n   \n",
       "6  \\n\\n#6Tie\\n\\n\\nOverall Score: \\n\\n\\n\\n\\n\\n\\n   \n",
       "7  \\n\\n#6Tie\\n\\n\\nOverall Score: \\n\\n\\n\\n\\n\\n\\n   \n",
       "8  \\n\\n#6Tie\\n\\n\\nOverall Score: \\n\\n\\n\\n\\n\\n\\n   \n",
       "9     \\n\\n#9\\n\\n\\nOverall Score: \\n\\n\\n\\n\\n\\n\\n   \n",
       "\n",
       "                                              school  \\\n",
       "0         \\nPrinceton University \\n\\nPrinceton, NJ\\n   \n",
       "1  \\nUniversity of California—​Berkeley \\n\\nBerke...   \n",
       "2  \\nUniversity of Wisconsin—​Madison \\n\\nMadison...   \n",
       "3                                               None   \n",
       "4           \\nStanford University \\n\\nStanford, CA\\n   \n",
       "5  \\nUniversity of Michigan—​Ann Arbor \\n\\nAnn Ar...   \n",
       "6           \\nHarvard University \\n\\nCambridge, MA\\n   \n",
       "7          \\nUniversity of Chicago \\n\\nChicago, IL\\n   \n",
       "8  \\nUniversity of North Carolina—​Chapel Hill \\n...   \n",
       "9  \\nUniversity of California—​Los Angeles \\n\\nLo...   \n",
       "\n",
       "                                               score  \n",
       "0  \\n\\n                \\n\\n                \\n\\n  ...  \n",
       "1  \\n\\n                \\n\\n                \\n\\n  ...  \n",
       "2  \\n\\n                \\n\\n                \\n\\n  ...  \n",
       "3                                               None  \n",
       "4  \\n\\n                \\n\\n                \\n\\n  ...  \n",
       "5  \\n\\n                \\n\\n                \\n\\n  ...  \n",
       "6  \\n\\n                \\n\\n                \\n\\n  ...  \n",
       "7  \\n\\n                \\n\\n                \\n\\n  ...  \n",
       "8  \\n\\n                \\n\\n                \\n\\n  ...  \n",
       "9  \\n\\n                \\n\\n                \\n\\n  ...  "
      ]
     },
     "execution_count": 9,
     "metadata": {},
     "output_type": "execute_result"
    }
   ],
   "source": [
    "us_news_df_raw.head(10)"
   ]
  },
  {
   "cell_type": "markdown",
   "metadata": {},
   "source": [
    "* make folders for raw_data and clean_data"
   ]
  },
  {
   "cell_type": "code",
   "execution_count": 10,
   "metadata": {
    "collapsed": true
   },
   "outputs": [],
   "source": [
    "if not os.path.exists('../data/raw_data'):\n",
    "    os.makedirs('../data/raw_data')\n",
    "\n",
    "if not os.path.exists('../data/clean_data'):\n",
    "    os.makedirs('../data/clean_data')\n",
    "    "
   ]
  },
  {
   "cell_type": "code",
   "execution_count": 11,
   "metadata": {
    "collapsed": false
   },
   "outputs": [],
   "source": [
    "# Write out the raw rankings data to the raw_data folder in the data folder\n",
    "us_news_df_raw.to_csv(\"../data/raw_data/us_news_rankings_RAW.csv\", index=False)"
   ]
  },
  {
   "cell_type": "markdown",
   "metadata": {},
   "source": [
    "* read in raw .csv of US News Rankings with `Pandas`"
   ]
  },
  {
   "cell_type": "code",
   "execution_count": 12,
   "metadata": {
    "collapsed": false
   },
   "outputs": [
    {
     "data": {
      "text/html": [
       "<div>\n",
       "<table border=\"1\" class=\"dataframe\">\n",
       "  <thead>\n",
       "    <tr style=\"text-align: right;\">\n",
       "      <th></th>\n",
       "      <th>rank</th>\n",
       "      <th>school</th>\n",
       "      <th>score</th>\n",
       "    </tr>\n",
       "  </thead>\n",
       "  <tbody>\n",
       "    <tr>\n",
       "      <th>0</th>\n",
       "      <td>\\n\\n#1Tie\\n\\n\\nOverall Score: \\n\\n\\n\\n\\n\\n\\n</td>\n",
       "      <td>\\nPrinceton University \\n\\nPrinceton, NJ\\n</td>\n",
       "      <td>\\n\\n                \\n\\n                \\n\\n  ...</td>\n",
       "    </tr>\n",
       "    <tr>\n",
       "      <th>1</th>\n",
       "      <td>\\n\\n#1Tie\\n\\n\\nOverall Score: \\n\\n\\n\\n\\n\\n\\n</td>\n",
       "      <td>\\nUniversity of California—​Berkeley \\n\\nBerke...</td>\n",
       "      <td>\\n\\n                \\n\\n                \\n\\n  ...</td>\n",
       "    </tr>\n",
       "    <tr>\n",
       "      <th>2</th>\n",
       "      <td>\\n\\n#1Tie\\n\\n\\nOverall Score: \\n\\n\\n\\n\\n\\n\\n</td>\n",
       "      <td>\\nUniversity of Wisconsin—​Madison \\n\\nMadison...</td>\n",
       "      <td>\\n\\n                \\n\\n                \\n\\n  ...</td>\n",
       "    </tr>\n",
       "    <tr>\n",
       "      <th>3</th>\n",
       "      <td>\\n\\ndblclick('rankingsEmbed')\\n</td>\n",
       "      <td>NaN</td>\n",
       "      <td>NaN</td>\n",
       "    </tr>\n",
       "    <tr>\n",
       "      <th>4</th>\n",
       "      <td>\\n\\n#4Tie\\n\\n\\nOverall Score: \\n\\n\\n\\n\\n\\n\\n</td>\n",
       "      <td>\\nStanford University \\n\\nStanford, CA\\n</td>\n",
       "      <td>\\n\\n                \\n\\n                \\n\\n  ...</td>\n",
       "    </tr>\n",
       "  </tbody>\n",
       "</table>\n",
       "</div>"
      ],
      "text/plain": [
       "                                           rank  \\\n",
       "0  \\n\\n#1Tie\\n\\n\\nOverall Score: \\n\\n\\n\\n\\n\\n\\n   \n",
       "1  \\n\\n#1Tie\\n\\n\\nOverall Score: \\n\\n\\n\\n\\n\\n\\n   \n",
       "2  \\n\\n#1Tie\\n\\n\\nOverall Score: \\n\\n\\n\\n\\n\\n\\n   \n",
       "3               \\n\\ndblclick('rankingsEmbed')\\n   \n",
       "4  \\n\\n#4Tie\\n\\n\\nOverall Score: \\n\\n\\n\\n\\n\\n\\n   \n",
       "\n",
       "                                              school  \\\n",
       "0         \\nPrinceton University \\n\\nPrinceton, NJ\\n   \n",
       "1  \\nUniversity of California—​Berkeley \\n\\nBerke...   \n",
       "2  \\nUniversity of Wisconsin—​Madison \\n\\nMadison...   \n",
       "3                                                NaN   \n",
       "4           \\nStanford University \\n\\nStanford, CA\\n   \n",
       "\n",
       "                                               score  \n",
       "0  \\n\\n                \\n\\n                \\n\\n  ...  \n",
       "1  \\n\\n                \\n\\n                \\n\\n  ...  \n",
       "2  \\n\\n                \\n\\n                \\n\\n  ...  \n",
       "3                                                NaN  \n",
       "4  \\n\\n                \\n\\n                \\n\\n  ...  "
      ]
     },
     "execution_count": 12,
     "metadata": {},
     "output_type": "execute_result"
    }
   ],
   "source": [
    "us_news_df_raw = pd.read_csv(\"../data/raw_data/us_news_rankings_RAW.csv\")\n",
    "us_news_df_raw = us_news_df_raw[0:len(us_news_df_raw)]\n",
    "us_news_df_raw.head()"
   ]
  },
  {
   "cell_type": "markdown",
   "metadata": {},
   "source": [
    "* make new columns for school location and school name\n",
    "* clean rank and score columns with regular expressions"
   ]
  },
  {
   "cell_type": "code",
   "execution_count": 13,
   "metadata": {
    "collapsed": false
   },
   "outputs": [],
   "source": [
    "us_news_df_raw[\"school_location\"] = \"NaN\"\n",
    "us_news_df_raw[\"school_name\"] = \"NaN\"\n",
    "us_news_df_raw[\"rank\"] = us_news_df_raw.loc[:,('rank')].replace(r\"\\D\",  \"\", regex = True)\n",
    "us_news_df_raw[\"score\"] = us_news_df_raw.loc[:,('score')].str.extract(\"(\\d.\\d)\", expand=False)"
   ]
  },
  {
   "cell_type": "code",
   "execution_count": 14,
   "metadata": {
    "collapsed": false
   },
   "outputs": [
    {
     "data": {
      "text/html": [
       "<div>\n",
       "<table border=\"1\" class=\"dataframe\">\n",
       "  <thead>\n",
       "    <tr style=\"text-align: right;\">\n",
       "      <th></th>\n",
       "      <th>rank</th>\n",
       "      <th>school</th>\n",
       "      <th>score</th>\n",
       "      <th>school_location</th>\n",
       "      <th>school_name</th>\n",
       "    </tr>\n",
       "  </thead>\n",
       "  <tbody>\n",
       "    <tr>\n",
       "      <th>0</th>\n",
       "      <td>1</td>\n",
       "      <td>\\nPrinceton University \\n\\nPrinceton, NJ\\n</td>\n",
       "      <td>4.7</td>\n",
       "      <td>NaN</td>\n",
       "      <td>NaN</td>\n",
       "    </tr>\n",
       "    <tr>\n",
       "      <th>1</th>\n",
       "      <td>1</td>\n",
       "      <td>\\nUniversity of California—​Berkeley \\n\\nBerke...</td>\n",
       "      <td>4.7</td>\n",
       "      <td>NaN</td>\n",
       "      <td>NaN</td>\n",
       "    </tr>\n",
       "    <tr>\n",
       "      <th>2</th>\n",
       "      <td>1</td>\n",
       "      <td>\\nUniversity of Wisconsin—​Madison \\n\\nMadison...</td>\n",
       "      <td>4.7</td>\n",
       "      <td>NaN</td>\n",
       "      <td>NaN</td>\n",
       "    </tr>\n",
       "    <tr>\n",
       "      <th>3</th>\n",
       "      <td></td>\n",
       "      <td>NaN</td>\n",
       "      <td>NaN</td>\n",
       "      <td>NaN</td>\n",
       "      <td>NaN</td>\n",
       "    </tr>\n",
       "    <tr>\n",
       "      <th>4</th>\n",
       "      <td>4</td>\n",
       "      <td>\\nStanford University \\n\\nStanford, CA\\n</td>\n",
       "      <td>4.6</td>\n",
       "      <td>NaN</td>\n",
       "      <td>NaN</td>\n",
       "    </tr>\n",
       "    <tr>\n",
       "      <th>5</th>\n",
       "      <td>4</td>\n",
       "      <td>\\nUniversity of Michigan—​Ann Arbor \\n\\nAnn Ar...</td>\n",
       "      <td>4.6</td>\n",
       "      <td>NaN</td>\n",
       "      <td>NaN</td>\n",
       "    </tr>\n",
       "    <tr>\n",
       "      <th>6</th>\n",
       "      <td>6</td>\n",
       "      <td>\\nHarvard University \\n\\nCambridge, MA\\n</td>\n",
       "      <td>4.5</td>\n",
       "      <td>NaN</td>\n",
       "      <td>NaN</td>\n",
       "    </tr>\n",
       "    <tr>\n",
       "      <th>7</th>\n",
       "      <td>6</td>\n",
       "      <td>\\nUniversity of Chicago \\n\\nChicago, IL\\n</td>\n",
       "      <td>4.5</td>\n",
       "      <td>NaN</td>\n",
       "      <td>NaN</td>\n",
       "    </tr>\n",
       "    <tr>\n",
       "      <th>8</th>\n",
       "      <td>6</td>\n",
       "      <td>\\nUniversity of North Carolina—​Chapel Hill \\n...</td>\n",
       "      <td>4.5</td>\n",
       "      <td>NaN</td>\n",
       "      <td>NaN</td>\n",
       "    </tr>\n",
       "    <tr>\n",
       "      <th>9</th>\n",
       "      <td>9</td>\n",
       "      <td>\\nUniversity of California—​Los Angeles \\n\\nLo...</td>\n",
       "      <td>4.4</td>\n",
       "      <td>NaN</td>\n",
       "      <td>NaN</td>\n",
       "    </tr>\n",
       "  </tbody>\n",
       "</table>\n",
       "</div>"
      ],
      "text/plain": [
       "  rank                                             school score  \\\n",
       "0    1         \\nPrinceton University \\n\\nPrinceton, NJ\\n   4.7   \n",
       "1    1  \\nUniversity of California—​Berkeley \\n\\nBerke...   4.7   \n",
       "2    1  \\nUniversity of Wisconsin—​Madison \\n\\nMadison...   4.7   \n",
       "3                                                     NaN   NaN   \n",
       "4    4           \\nStanford University \\n\\nStanford, CA\\n   4.6   \n",
       "5    4  \\nUniversity of Michigan—​Ann Arbor \\n\\nAnn Ar...   4.6   \n",
       "6    6           \\nHarvard University \\n\\nCambridge, MA\\n   4.5   \n",
       "7    6          \\nUniversity of Chicago \\n\\nChicago, IL\\n   4.5   \n",
       "8    6  \\nUniversity of North Carolina—​Chapel Hill \\n...   4.5   \n",
       "9    9  \\nUniversity of California—​Los Angeles \\n\\nLo...   4.4   \n",
       "\n",
       "  school_location school_name  \n",
       "0             NaN         NaN  \n",
       "1             NaN         NaN  \n",
       "2             NaN         NaN  \n",
       "3             NaN         NaN  \n",
       "4             NaN         NaN  \n",
       "5             NaN         NaN  \n",
       "6             NaN         NaN  \n",
       "7             NaN         NaN  \n",
       "8             NaN         NaN  \n",
       "9             NaN         NaN  "
      ]
     },
     "execution_count": 14,
     "metadata": {},
     "output_type": "execute_result"
    }
   ],
   "source": [
    "us_news_df_raw.head(10)"
   ]
  },
  {
   "cell_type": "markdown",
   "metadata": {},
   "source": [
    "* fill in the school name and school location columns with regular expressions\n",
    "    * split the school column to create two new columns"
   ]
  },
  {
   "cell_type": "code",
   "execution_count": 15,
   "metadata": {
    "collapsed": false
   },
   "outputs": [],
   "source": [
    "for i in range(0,len(us_news_df_raw)+1):\n",
    "    try: \n",
    "        us_news_df_raw[\"school_name\"][i] = us_news_df_raw[\"school\"].str.split(\"\\n\\n\")[i][0]\n",
    "        us_news_df_raw[\"school_location\"][i] = us_news_df_raw[\"school\"].str.split(\"\\n\\n\")[i][1]\n",
    "    except:\n",
    "        us_news_df_raw[\"school_name\"][i] = \"NaN\"\n",
    "        us_news_df_raw[\"school_location\"][i] = \"NaN\"\n",
    "us_news_df_raw[\"school_name\"] = us_news_df_raw.loc[:,('school_name')].replace(r\"\\n\",  \"\", regex = True)\n",
    "us_news_df_raw[\"school_location\"] = us_news_df_raw.loc[:,('school_location')].replace(\"\\n\",  \"\", regex = True)"
   ]
  },
  {
   "cell_type": "code",
   "execution_count": 16,
   "metadata": {
    "collapsed": false
   },
   "outputs": [
    {
     "data": {
      "text/html": [
       "<div>\n",
       "<table border=\"1\" class=\"dataframe\">\n",
       "  <thead>\n",
       "    <tr style=\"text-align: right;\">\n",
       "      <th></th>\n",
       "      <th>rank</th>\n",
       "      <th>school_name</th>\n",
       "      <th>school_location</th>\n",
       "      <th>score</th>\n",
       "    </tr>\n",
       "  </thead>\n",
       "  <tbody>\n",
       "    <tr>\n",
       "      <th>0</th>\n",
       "      <td>1</td>\n",
       "      <td>Princeton University</td>\n",
       "      <td>Princeton, NJ</td>\n",
       "      <td>4.7</td>\n",
       "    </tr>\n",
       "    <tr>\n",
       "      <th>1</th>\n",
       "      <td>1</td>\n",
       "      <td>University of California—​Berkeley</td>\n",
       "      <td>Berkeley, CA</td>\n",
       "      <td>4.7</td>\n",
       "    </tr>\n",
       "    <tr>\n",
       "      <th>2</th>\n",
       "      <td>1</td>\n",
       "      <td>University of Wisconsin—​Madison</td>\n",
       "      <td>Madison, WI</td>\n",
       "      <td>4.7</td>\n",
       "    </tr>\n",
       "    <tr>\n",
       "      <th>3</th>\n",
       "      <td></td>\n",
       "      <td>NaN</td>\n",
       "      <td>NaN</td>\n",
       "      <td>NaN</td>\n",
       "    </tr>\n",
       "    <tr>\n",
       "      <th>4</th>\n",
       "      <td>4</td>\n",
       "      <td>Stanford University</td>\n",
       "      <td>Stanford, CA</td>\n",
       "      <td>4.6</td>\n",
       "    </tr>\n",
       "  </tbody>\n",
       "</table>\n",
       "</div>"
      ],
      "text/plain": [
       "  rank                          school_name school_location score\n",
       "0    1                Princeton University    Princeton, NJ   4.7\n",
       "1    1  University of California—​Berkeley     Berkeley, CA   4.7\n",
       "2    1    University of Wisconsin—​Madison      Madison, WI   4.7\n",
       "3                                       NaN             NaN   NaN\n",
       "4    4                 Stanford University     Stanford, CA   4.6"
      ]
     },
     "execution_count": 16,
     "metadata": {},
     "output_type": "execute_result"
    }
   ],
   "source": [
    "cols = [\"rank\", \"school_name\", \"school_location\", \"score\"]\n",
    "us_news_df_raw = us_news_df_raw[cols]\n",
    "us_news_df_raw.head()"
   ]
  },
  {
   "cell_type": "markdown",
   "metadata": {},
   "source": [
    "* drop observations that are empty rows (NaN observations on school name column)"
   ]
  },
  {
   "cell_type": "code",
   "execution_count": 17,
   "metadata": {
    "collapsed": false
   },
   "outputs": [
    {
     "data": {
      "text/html": [
       "<div>\n",
       "<table border=\"1\" class=\"dataframe\">\n",
       "  <thead>\n",
       "    <tr style=\"text-align: right;\">\n",
       "      <th></th>\n",
       "      <th>rank</th>\n",
       "      <th>school_name</th>\n",
       "      <th>school_location</th>\n",
       "      <th>score</th>\n",
       "    </tr>\n",
       "  </thead>\n",
       "  <tbody>\n",
       "    <tr>\n",
       "      <th>0</th>\n",
       "      <td>1</td>\n",
       "      <td>Princeton University</td>\n",
       "      <td>Princeton, NJ</td>\n",
       "      <td>4.7</td>\n",
       "    </tr>\n",
       "    <tr>\n",
       "      <th>1</th>\n",
       "      <td>1</td>\n",
       "      <td>University of California—​Berkeley</td>\n",
       "      <td>Berkeley, CA</td>\n",
       "      <td>4.7</td>\n",
       "    </tr>\n",
       "    <tr>\n",
       "      <th>2</th>\n",
       "      <td>1</td>\n",
       "      <td>University of Wisconsin—​Madison</td>\n",
       "      <td>Madison, WI</td>\n",
       "      <td>4.7</td>\n",
       "    </tr>\n",
       "    <tr>\n",
       "      <th>4</th>\n",
       "      <td>4</td>\n",
       "      <td>Stanford University</td>\n",
       "      <td>Stanford, CA</td>\n",
       "      <td>4.6</td>\n",
       "    </tr>\n",
       "    <tr>\n",
       "      <th>5</th>\n",
       "      <td>4</td>\n",
       "      <td>University of Michigan—​Ann Arbor</td>\n",
       "      <td>Ann Arbor, MI</td>\n",
       "      <td>4.6</td>\n",
       "    </tr>\n",
       "  </tbody>\n",
       "</table>\n",
       "</div>"
      ],
      "text/plain": [
       "  rank                          school_name school_location score\n",
       "0    1                Princeton University    Princeton, NJ   4.7\n",
       "1    1  University of California—​Berkeley     Berkeley, CA   4.7\n",
       "2    1    University of Wisconsin—​Madison      Madison, WI   4.7\n",
       "4    4                 Stanford University     Stanford, CA   4.6\n",
       "5    4   University of Michigan—​Ann Arbor    Ann Arbor, MI   4.6"
      ]
     },
     "execution_count": 17,
     "metadata": {},
     "output_type": "execute_result"
    }
   ],
   "source": [
    "us_news_df_clean = us_news_df_raw[us_news_df_raw['school_name']!=\"NaN\"]\n",
    "us_news_df_clean.head()"
   ]
  },
  {
   "cell_type": "markdown",
   "metadata": {},
   "source": [
    "* save clean .csv to file"
   ]
  },
  {
   "cell_type": "code",
   "execution_count": 18,
   "metadata": {
    "collapsed": true
   },
   "outputs": [],
   "source": [
    "us_news_df_clean.to_csv(\"../data/clean_data/us_news_rankings_clean.csv\")"
   ]
  },
  {
   "cell_type": "code",
   "execution_count": 19,
   "metadata": {
    "collapsed": true
   },
   "outputs": [],
   "source": [
    "from geopy.geocoders import Nominatim"
   ]
  },
  {
   "cell_type": "code",
   "execution_count": 20,
   "metadata": {
    "collapsed": false
   },
   "outputs": [],
   "source": [
    "geolocator = Nominatim()\n",
    "locations = us_news_df_clean['school_location'].apply(lambda x: geolocator.geocode(x)) # equiv to df.sum(0)\n",
    "address,coordinates  = zip(*locations)\n",
    "latitude,longitude = zip(*coordinates)"
   ]
  },
  {
   "cell_type": "code",
   "execution_count": 21,
   "metadata": {
    "collapsed": false
   },
   "outputs": [
    {
     "name": "stderr",
     "output_type": "stream",
     "text": [
      "/Users/kivan/anaconda3/lib/python3.5/site-packages/pandas/core/indexing.py:288: SettingWithCopyWarning: \n",
      "A value is trying to be set on a copy of a slice from a DataFrame.\n",
      "Try using .loc[row_indexer,col_indexer] = value instead\n",
      "\n",
      "See the caveats in the documentation: http://pandas.pydata.org/pandas-docs/stable/indexing.html#indexing-view-versus-copy\n",
      "  self.obj[key] = _infer_fill_value(value)\n",
      "/Users/kivan/anaconda3/lib/python3.5/site-packages/pandas/core/indexing.py:465: SettingWithCopyWarning: \n",
      "A value is trying to be set on a copy of a slice from a DataFrame.\n",
      "Try using .loc[row_indexer,col_indexer] = value instead\n",
      "\n",
      "See the caveats in the documentation: http://pandas.pydata.org/pandas-docs/stable/indexing.html#indexing-view-versus-copy\n",
      "  self.obj[item] = s\n"
     ]
    },
    {
     "data": {
      "text/html": [
       "<div>\n",
       "<table border=\"1\" class=\"dataframe\">\n",
       "  <thead>\n",
       "    <tr style=\"text-align: right;\">\n",
       "      <th></th>\n",
       "      <th>rank</th>\n",
       "      <th>school_name</th>\n",
       "      <th>school_location</th>\n",
       "      <th>score</th>\n",
       "      <th>latitude</th>\n",
       "      <th>longitude</th>\n",
       "    </tr>\n",
       "  </thead>\n",
       "  <tbody>\n",
       "    <tr>\n",
       "      <th>0</th>\n",
       "      <td>1.0</td>\n",
       "      <td>Princeton University</td>\n",
       "      <td>Princeton, NJ</td>\n",
       "      <td>4.7</td>\n",
       "      <td>40.349274</td>\n",
       "      <td>-74.659296</td>\n",
       "    </tr>\n",
       "    <tr>\n",
       "      <th>1</th>\n",
       "      <td>1.0</td>\n",
       "      <td>University of California—​Berkeley</td>\n",
       "      <td>Berkeley, CA</td>\n",
       "      <td>4.7</td>\n",
       "      <td>37.870839</td>\n",
       "      <td>-122.272864</td>\n",
       "    </tr>\n",
       "    <tr>\n",
       "      <th>2</th>\n",
       "      <td>1.0</td>\n",
       "      <td>University of Wisconsin—​Madison</td>\n",
       "      <td>Madison, WI</td>\n",
       "      <td>4.7</td>\n",
       "      <td>43.074761</td>\n",
       "      <td>-89.383761</td>\n",
       "    </tr>\n",
       "    <tr>\n",
       "      <th>4</th>\n",
       "      <td>4.0</td>\n",
       "      <td>Stanford University</td>\n",
       "      <td>Stanford, CA</td>\n",
       "      <td>4.6</td>\n",
       "      <td>37.426565</td>\n",
       "      <td>-122.170188</td>\n",
       "    </tr>\n",
       "    <tr>\n",
       "      <th>5</th>\n",
       "      <td>4.0</td>\n",
       "      <td>University of Michigan—​Ann Arbor</td>\n",
       "      <td>Ann Arbor, MI</td>\n",
       "      <td>4.6</td>\n",
       "      <td>42.268157</td>\n",
       "      <td>-83.731229</td>\n",
       "    </tr>\n",
       "  </tbody>\n",
       "</table>\n",
       "</div>"
      ],
      "text/plain": [
       "   rank                          school_name school_location  score  \\\n",
       "0   1.0                Princeton University    Princeton, NJ    4.7   \n",
       "1   1.0  University of California—​Berkeley     Berkeley, CA    4.7   \n",
       "2   1.0    University of Wisconsin—​Madison      Madison, WI    4.7   \n",
       "4   4.0                 Stanford University     Stanford, CA    4.6   \n",
       "5   4.0   University of Michigan—​Ann Arbor    Ann Arbor, MI    4.6   \n",
       "\n",
       "    latitude   longitude  \n",
       "0  40.349274  -74.659296  \n",
       "1  37.870839 -122.272864  \n",
       "2  43.074761  -89.383761  \n",
       "4  37.426565 -122.170188  \n",
       "5  42.268157  -83.731229  "
      ]
     },
     "execution_count": 21,
     "metadata": {},
     "output_type": "execute_result"
    }
   ],
   "source": [
    "us_news_df_clean.loc[:,'latitude'] = latitude\n",
    "us_news_df_clean.loc[:,('longitude')] = longitude\n",
    "us_news_df_clean = us_news_df_clean.apply(pd.to_numeric, errors=\"ignore\")\n",
    "us_news_df_clean.head()"
   ]
  },
  {
   "cell_type": "code",
   "execution_count": 22,
   "metadata": {
    "collapsed": false
   },
   "outputs": [],
   "source": [
    "us_news_df_clean['quintile'] = pd.qcut(us_news_df_clean['score'], 5, labels=False)"
   ]
  },
  {
   "cell_type": "code",
   "execution_count": 23,
   "metadata": {
    "collapsed": false
   },
   "outputs": [
    {
     "data": {
      "text/html": [
       "<div class=\"vega-embed\" id=\"32149ca0-9039-46e2-ae75-fc4d40ee2ea9\"></div>\n",
       "\n",
       "<style>\n",
       ".vega-embed svg, .vega-embed canvas {\n",
       "  border: 1px dotted gray;\n",
       "}\n",
       "\n",
       ".vega-embed .vega-actions a {\n",
       "  margin-right: 6px;\n",
       "}\n",
       "</style>\n"
      ]
     },
     "metadata": {
      "jupyter-vega": "#32149ca0-9039-46e2-ae75-fc4d40ee2ea9"
     },
     "output_type": "display_data"
    },
    {
     "data": {
      "application/javascript": [
       "var spec = {\"config\": {\"mark\": {\"opacity\": 0.6, \"size\": 100.0}, \"axis\": {\"labels\": false, \"grid\": false, \"tickWidth\": 0.0, \"axisWidth\": 0.0}, \"cell\": {\"height\": 350.0, \"width\": 800.0}}, \"mark\": \"circle\", \"encoding\": {\"color\": {\"type\": \"nominal\", \"field\": \"quintile\"}, \"y\": {\"axis\": {\"title\": \" \"}, \"type\": \"quantitative\", \"field\": \"latitude\"}, \"x\": {\"axis\": {\"title\": \" \"}, \"type\": \"quantitative\", \"field\": \"longitude\"}}, \"data\": {\"values\": [{\"quintile\": 4.0, \"rank\": 1.0, \"latitude\": 40.3492744, \"school_name\": \"Princeton University\\u00a0\", \"school_location\": \"Princeton, NJ\", \"longitude\": -74.6592957, \"score\": 4.7}, {\"quintile\": 4.0, \"rank\": 1.0, \"latitude\": 37.8708393, \"school_name\": \"University of California\\u2014\\u200bBerkeley\\u00a0\", \"school_location\": \"Berkeley, CA\", \"longitude\": -122.2728638, \"score\": 4.7}, {\"quintile\": 4.0, \"rank\": 1.0, \"latitude\": 43.074761, \"school_name\": \"University of Wisconsin\\u2014\\u200bMadison\\u00a0\", \"school_location\": \"Madison, WI\", \"longitude\": -89.3837612, \"score\": 4.7}, {\"quintile\": 4.0, \"rank\": 4.0, \"latitude\": 37.4265649, \"school_name\": \"Stanford University\\u00a0\", \"school_location\": \"Stanford, CA\", \"longitude\": -122.170187551249, \"score\": 4.6}, {\"quintile\": 4.0, \"rank\": 4.0, \"latitude\": 42.2681569, \"school_name\": \"University of Michigan\\u2014\\u200bAnn Arbor\\u00a0\", \"school_location\": \"Ann Arbor, MI\", \"longitude\": -83.731229, \"score\": 4.6}, {\"quintile\": 4.0, \"rank\": 6.0, \"latitude\": 42.3750997, \"school_name\": \"Harvard University\\u00a0\", \"school_location\": \"Cambridge, MA\", \"longitude\": -71.1056156, \"score\": 4.5}, {\"quintile\": 4.0, \"rank\": 6.0, \"latitude\": 41.8755546, \"school_name\": \"University of Chicago\\u00a0\", \"school_location\": \"Chicago, IL\", \"longitude\": -87.6244211, \"score\": 4.5}, {\"quintile\": 4.0, \"rank\": 6.0, \"latitude\": 35.9131996, \"school_name\": \"University of North Carolina\\u2014\\u200bChapel Hill\\u00a0\", \"school_location\": \"Chapel Hill, NC\", \"longitude\": -79.0558444, \"score\": 4.5}, {\"quintile\": 4.0, \"rank\": 9.0, \"latitude\": 34.0543942, \"school_name\": \"University of California\\u2014\\u200bLos Angeles\\u00a0\", \"school_location\": \"Los Angeles, CA\", \"longitude\": -118.2439408, \"score\": 4.4}, {\"quintile\": 4.0, \"rank\": 10.0, \"latitude\": 42.0447388, \"school_name\": \"Northwestern University\\u00a0\", \"school_location\": \"Evanston, IL\", \"longitude\": -87.6930458, \"score\": 4.3}, {\"quintile\": 4.0, \"rank\": 10.0, \"latitude\": 39.9523993, \"school_name\": \"University of Pennsylvania\\u00a0\", \"school_location\": \"Philadelphia, PA\", \"longitude\": -75.1635898, \"score\": 4.3}, {\"quintile\": 4.0, \"rank\": 12.0, \"latitude\": 40.7305991, \"school_name\": \"Columbia University\\u00a0\", \"school_location\": \"New York, NY\", \"longitude\": -73.9865811, \"score\": 4.2}, {\"quintile\": 4.0, \"rank\": 12.0, \"latitude\": 39.1670396, \"school_name\": \"Indiana University\\u2014\\u200bBloomington\\u00a0\", \"school_location\": \"Bloomington, IN\", \"longitude\": -86.534288, \"score\": 4.2}, {\"quintile\": 4.0, \"rank\": 14.0, \"latitude\": 35.9940329, \"school_name\": \"Duke University\\u00a0\", \"school_location\": \"Durham, NC\", \"longitude\": -78.8986189, \"score\": 4.1}, {\"quintile\": 4.0, \"rank\": 14.0, \"latitude\": 30.2711286, \"school_name\": \"University of Texas\\u2014\\u200bAustin\\u00a0\", \"school_location\": \"Austin, TX\", \"longitude\": -97.7436994, \"score\": 4.1}, {\"quintile\": 4.0, \"rank\": 16.0, \"latitude\": 40.7305991, \"school_name\": \"New York University\\u00a0\", \"school_location\": \"New York, NY\", \"longitude\": -73.9865811, \"score\": 4.0}, {\"quintile\": 4.0, \"rank\": 17.0, \"latitude\": 42.4396039, \"school_name\": \"Cornell University\\u00a0\", \"school_location\": \"Ithaca, NY\", \"longitude\": -76.4968018, \"score\": 3.9}, {\"quintile\": 4.0, \"rank\": 17.0, \"latitude\": 39.9622601, \"school_name\": \"Ohio State University\\u00a0\", \"school_location\": \"Columbus, OH\", \"longitude\": -83.0007064, \"score\": 3.9}, {\"quintile\": 4.0, \"rank\": 17.0, \"latitude\": 40.8005307, \"school_name\": \"Pennsylvania State University\\u2014\\u200bUniversity Park\\u00a0\", \"school_location\": \"University Park, PA\", \"longitude\": -77.8624446, \"score\": 3.9}, {\"quintile\": 3.0, \"rank\": 20.0, \"latitude\": 32.2217422, \"school_name\": \"University of Arizona\\u00a0\", \"school_location\": \"Tucson, AZ\", \"longitude\": -110.9264758, \"score\": 3.8}, {\"quintile\": 3.0, \"rank\": 20.0, \"latitude\": 44.9772995, \"school_name\": \"University of Minnesota\\u2014\\u200bTwin Cities\\u00a0\", \"school_location\": \"Minneapolis, MN\", \"longitude\": -93.2654691, \"score\": 3.8}, {\"quintile\": 3.0, \"rank\": 20.0, \"latitude\": 47.6038321, \"school_name\": \"University of Washington\\u00a0\", \"school_location\": \"Seattle, WA\", \"longitude\": -122.3300623, \"score\": 3.8}, {\"quintile\": 3.0, \"rank\": 20.0, \"latitude\": 41.3082138, \"school_name\": \"Yale University\\u00a0\", \"school_location\": \"New Haven, CT\", \"longitude\": -72.9250517, \"score\": 3.8}, {\"quintile\": 3.0, \"rank\": 24.0, \"latitude\": 38.980666, \"school_name\": \"University of Maryland\\u2014\\u200bCollege Park\\u00a0\", \"school_location\": \"College Park, MD\", \"longitude\": -76.9369188, \"score\": 3.7}, {\"quintile\": 3.0, \"rank\": 25.0, \"latitude\": 41.8239891, \"school_name\": \"Brown University\\u00a0\", \"school_location\": \"Providence, RI\", \"longitude\": -71.4128342, \"score\": 3.6}, {\"quintile\": 3.0, \"rank\": 25.0, \"latitude\": 33.6856969, \"school_name\": \"University of California\\u2014\\u200bIrvine\\u00a0\", \"school_location\": \"Irvine, CA\", \"longitude\": -117.8259818, \"score\": 3.6}, {\"quintile\": 3.0, \"rank\": 27.0, \"latitude\": 39.2908608, \"school_name\": \"Johns Hopkins University\\u00a0\", \"school_location\": \"Baltimore, MD\", \"longitude\": -76.6108072, \"score\": 3.5}, {\"quintile\": 3.0, \"rank\": 28.0, \"latitude\": 40.7305991, \"school_name\": \"CUNY Graduate School and University Center\\u00a0\", \"school_location\": \"New York, NY\", \"longitude\": -73.9865811, \"score\": 3.4}, {\"quintile\": 3.0, \"rank\": 28.0, \"latitude\": 40.5462553, \"school_name\": \"Rutgers, The State University of New Jersey\\u2014\\u200bNew Brunswick\\u00a0\", \"school_location\": \"Piscataway, NJ\", \"longitude\": -74.4660407, \"score\": 3.4}, {\"quintile\": 3.0, \"rank\": 28.0, \"latitude\": 42.6511674, \"school_name\": \"University at Albany\\u2014\\u200bSUNY\\u00a0\", \"school_location\": \"Albany, NY\", \"longitude\": -73.7549679, \"score\": 3.4}, {\"quintile\": 3.0, \"rank\": 31.0, \"latitude\": 38.545379, \"school_name\": \"University of California\\u2014\\u200bDavis\\u00a0\", \"school_location\": \"Davis, CA\", \"longitude\": -121.7445834, \"score\": 3.3}, {\"quintile\": 3.0, \"rank\": 31.0, \"latitude\": 34.4221319, \"school_name\": \"University of California\\u2014\\u200bSanta Barbara\\u00a0\", \"school_location\": \"Santa Barbara, CA\", \"longitude\": -119.7026672, \"score\": 3.3}, {\"quintile\": 3.0, \"rank\": 31.0, \"latitude\": 42.3803676, \"school_name\": \"University of Massachusetts\\u2014\\u200bAmherst\\u00a0\", \"school_location\": \"Amherst, MA\", \"longitude\": -72.5231429, \"score\": 3.3}, {\"quintile\": 3.0, \"rank\": 31.0, \"latitude\": 36.1622296, \"school_name\": \"Vanderbilt University\\u00a0\", \"school_location\": \"Nashville, TN\", \"longitude\": -86.774353, \"score\": 3.3}, {\"quintile\": 3.0, \"rank\": 35.0, \"latitude\": 33.7490987, \"school_name\": \"Emory University\\u00a0\", \"school_location\": \"Atlanta, GA\", \"longitude\": -84.3901848, \"score\": 3.2}, {\"quintile\": 3.0, \"rank\": 35.0, \"latitude\": 32.8472711, \"school_name\": \"University of California\\u2014\\u200bSan Diego\\u00a0\", \"school_location\": \"La Jolla, CA\", \"longitude\": -117.2742085, \"score\": 3.2}, {\"quintile\": 3.0, \"rank\": 35.0, \"latitude\": 41.6612561, \"school_name\": \"University of Iowa\\u00a0\", \"school_location\": \"Iowa City, IA\", \"longitude\": -91.5299105, \"score\": 3.2}, {\"quintile\": 3.0, \"rank\": 35.0, \"latitude\": 38.029306, \"school_name\": \"University of Virginia\\u00a0\", \"school_location\": \"Charlottesville, VA\", \"longitude\": -78.476678, \"score\": 3.2}, {\"quintile\": 2.0, \"rank\": 39.0, \"latitude\": 30.4380832, \"school_name\": \"Florida State University\\u00a0\", \"school_location\": \"Tallahassee, FL\", \"longitude\": -84.2809331, \"score\": 3.1}, {\"quintile\": 2.0, \"rank\": 39.0, \"latitude\": 41.8755546, \"school_name\": \"University of Illinois\\u2014\\u200bChicago\\u00a0\", \"school_location\": \"Chicago, IL\", \"longitude\": -87.6244211, \"score\": 3.1}, {\"quintile\": 2.0, \"rank\": 39.0, \"latitude\": 34.0543942, \"school_name\": \"University of Southern California\\u00a0\", \"school_location\": \"Los Angeles, CA\", \"longitude\": -118.2439408, \"score\": 3.1}, {\"quintile\": 2.0, \"rank\": 42.0, \"latitude\": 40.9256538, \"school_name\": \"Stony Brook University\\u2014\\u200bSUNY\\u00a0\", \"school_location\": \"Stony Brook, NY\", \"longitude\": -73.1409429, \"score\": 3.0}, {\"quintile\": 2.0, \"rank\": 42.0, \"latitude\": 33.9533546, \"school_name\": \"University of California\\u2014\\u200bRiverside\\u00a0\", \"school_location\": \"Riverside, CA\", \"longitude\": -117.3961622, \"score\": 3.0}, {\"quintile\": 2.0, \"rank\": 42.0, \"latitude\": 40.1117174, \"school_name\": \"University of Illinois\\u2014\\u200bUrbana-\\u200bChampaign\\u00a0\", \"school_location\": \"Urbana, IL\", \"longitude\": -88.2073009, \"score\": 3.0}, {\"quintile\": 2.0, \"rank\": 42.0, \"latitude\": 41.70456775, \"school_name\": \"University of Notre Dame\\u00a0\", \"school_location\": \"Notre Dame, IN\", \"longitude\": -86.2382201601727, \"score\": 3.0}, {\"quintile\": 2.0, \"rank\": 46.0, \"latitude\": 42.330653, \"school_name\": \"Boston College\\u00a0\", \"school_location\": \"Chestnut Hill, MA\", \"longitude\": -71.1622756, \"score\": 2.9}, {\"quintile\": 2.0, \"rank\": 46.0, \"latitude\": 42.7355416, \"school_name\": \"Michigan State University\\u00a0\", \"school_location\": \"East Lansing, MI\", \"longitude\": -84.4852468, \"score\": 2.9}, {\"quintile\": 2.0, \"rank\": 46.0, \"latitude\": 30.6253463, \"school_name\": \"Texas A&M University\\u2014\\u200bCollege Station\\u00a0\", \"school_location\": \"College Station, TX\", \"longitude\": -96.3271537, \"score\": 2.9}, {\"quintile\": 2.0, \"rank\": 46.0, \"latitude\": 40.0149856, \"school_name\": \"University of Colorado\\u2014\\u200bBoulder\\u00a0\", \"school_location\": \"Boulder, CO\", \"longitude\": -105.2705455, \"score\": 2.9}, {\"quintile\": 2.0, \"rank\": 46.0, \"latitude\": 33.9595974, \"school_name\": \"University of Georgia\\u00a0\", \"school_location\": \"Athens, GA\", \"longitude\": -83.3766779, \"score\": 2.9}, {\"quintile\": 2.0, \"rank\": 46.0, \"latitude\": 46.7304268, \"school_name\": \"Washington State University\\u00a0\", \"school_location\": \"Pullman, WA\", \"longitude\": -117.1738949, \"score\": 2.9}, {\"quintile\": 2.0, \"rank\": 52.0, \"latitude\": 42.3756401, \"school_name\": \"Brandeis University\\u00a0\", \"school_location\": \"Waltham, MA\", \"longitude\": -71.2358003, \"score\": 2.8}, {\"quintile\": 2.0, \"rank\": 52.0, \"latitude\": 35.7803977, \"school_name\": \"North Carolina State University\\u00a0\", \"school_location\": \"Raleigh, NC\", \"longitude\": -78.6390988, \"score\": 2.8}, {\"quintile\": 2.0, \"rank\": 52.0, \"latitude\": 40.4258686, \"school_name\": \"Purdue University\\u2014\\u200bWest Lafayette\\u00a0\", \"school_location\": \"West Lafayette, IN\", \"longitude\": -86.9080654, \"score\": 2.8}, {\"quintile\": 2.0, \"rank\": 52.0, \"latitude\": 37.7792808, \"school_name\": \"University of California\\u2014\\u200bSan Francisco\\u00a0\", \"school_location\": \"San Francisco, CA\", \"longitude\": -122.4192362, \"score\": 2.8}, {\"quintile\": 2.0, \"rank\": 52.0, \"latitude\": 41.8084314, \"school_name\": \"University of Connecticut\\u00a0\", \"school_location\": \"Storrs, CT\", \"longitude\": -72.249523, \"score\": 2.8}, {\"quintile\": 2.0, \"rank\": 52.0, \"latitude\": 29.6519396, \"school_name\": \"University of Florida\\u00a0\", \"school_location\": \"Gainesville, FL\", \"longitude\": -82.324996, \"score\": 2.8}, {\"quintile\": 2.0, \"rank\": 52.0, \"latitude\": 40.4416941, \"school_name\": \"University of Pittsburgh\\u00a0\", \"school_location\": \"Pittsburgh, PA\", \"longitude\": -79.990086, \"score\": 2.8}, {\"quintile\": 1.0, \"rank\": 59.0, \"latitude\": 33.4144139, \"school_name\": \"Arizona State University\\u00a0\", \"school_location\": \"Tempe, AZ\", \"longitude\": -111.9094473, \"score\": 2.7}, {\"quintile\": 1.0, \"rank\": 59.0, \"latitude\": 42.3604823, \"school_name\": \"Boston University\\u00a0\", \"school_location\": \"Boston, MA\", \"longitude\": -71.0595677, \"score\": 2.7}, {\"quintile\": 1.0, \"rank\": 59.0, \"latitude\": 40.7305991, \"school_name\": \"New School\\u00a0\", \"school_location\": \"New York, NY\", \"longitude\": -73.9865811, \"score\": 2.7}, {\"quintile\": 1.0, \"rank\": 59.0, \"latitude\": 36.9735903, \"school_name\": \"University of California\\u2014\\u200bSanta Cruz\\u00a0\", \"school_location\": \"Santa Cruz, CA\", \"longitude\": -122.0260569, \"score\": 2.7}, {\"quintile\": 1.0, \"rank\": 59.0, \"latitude\": 44.10118085, \"school_name\": \"University of Oregon\\u00a0\", \"school_location\": \"Eugene, OR\", \"longitude\": -123.152383713818, \"score\": 2.7}, {\"quintile\": 1.0, \"rank\": 64.0, \"latitude\": 41.3747744, \"school_name\": \"Bowling Green State University\\u00a0\", \"school_location\": \"Bowling Green, OH\", \"longitude\": -83.6513228, \"score\": 2.6}, {\"quintile\": 1.0, \"rank\": 64.0, \"latitude\": 42.3604823, \"school_name\": \"Northeastern University\\u00a0\", \"school_location\": \"Boston, MA\", \"longitude\": -71.0595677, \"score\": 2.6}, {\"quintile\": 1.0, \"rank\": 64.0, \"latitude\": 39.9523993, \"school_name\": \"Temple University\\u00a0\", \"school_location\": \"Philadelphia, PA\", \"longitude\": -75.1635898, \"score\": 2.6}, {\"quintile\": 1.0, \"rank\": 64.0, \"latitude\": 39.6852191, \"school_name\": \"University of Delaware\\u00a0\", \"school_location\": \"Newark, DE\", \"longitude\": -75.7508288, \"score\": 2.6}, {\"quintile\": 1.0, \"rank\": 64.0, \"latitude\": 38.9719384, \"school_name\": \"University of Kansas\\u00a0\", \"school_location\": \"Lawrence, KS\", \"longitude\": -95.2359495, \"score\": 2.6}, {\"quintile\": 1.0, \"rank\": 69.0, \"latitude\": 42.096968, \"school_name\": \"Binghamton University\\u2014\\u200bSUNY\\u00a0\", \"school_location\": \"Binghamton, NY\", \"longitude\": -75.9143409, \"score\": 2.5}, {\"quintile\": 1.0, \"rank\": 69.0, \"latitude\": 43.0481221, \"school_name\": \"Syracuse University\\u00a0\", \"school_location\": \"Syracuse, NY\", \"longitude\": -76.1474243, \"score\": 2.5}, {\"quintile\": 1.0, \"rank\": 69.0, \"latitude\": 40.7999998, \"school_name\": \"University of Nebraska\\u2014\\u200bLincoln\\u00a0\", \"school_location\": \"Lincoln, NE\", \"longitude\": -96.6678212, \"score\": 2.5}, {\"quintile\": 1.0, \"rank\": 69.0, \"latitude\": 34.0007493, \"school_name\": \"University of South Carolina\\u00a0\", \"school_location\": \"Columbia, SC\", \"longitude\": -81.0343312, \"score\": 2.5}, {\"quintile\": 1.0, \"rank\": 69.0, \"latitude\": 37.2296566, \"school_name\": \"Virginia Tech\\u00a0\", \"school_location\": \"Blacksburg, VA\", \"longitude\": -80.4136766, \"score\": 2.5}, {\"quintile\": 1.0, \"rank\": 74.0, \"latitude\": 42.0267703, \"school_name\": \"Iowa State University\\u00a0\", \"school_location\": \"Ames, IA\", \"longitude\": -93.6170553, \"score\": 2.4}, {\"quintile\": 1.0, \"rank\": 74.0, \"latitude\": 40.7305991, \"school_name\": \"Teachers College, Columbia University\\u00a0\", \"school_location\": \"New York, NY\", \"longitude\": -73.9865811, \"score\": 2.4}, {\"quintile\": 1.0, \"rank\": 76.0, \"latitude\": 33.7490987, \"school_name\": \"Georgia State University\\u00a0\", \"school_location\": \"Atlanta, GA\", \"longitude\": -84.3901848, \"score\": 2.3}, {\"quintile\": 1.0, \"rank\": 76.0, \"latitude\": 30.4507462, \"school_name\": \"Louisiana State University\\u2014\\u200bBaton Rouge\\u00a0\", \"school_location\": \"Baton Rouge, LA\", \"longitude\": -91.1545509, \"score\": 2.3}, {\"quintile\": 0.0, \"rank\": 78.0, \"latitude\": 41.5051613, \"school_name\": \"Case Western Reserve University\\u00a0\", \"school_location\": \"Cleveland, OH\", \"longitude\": -81.6934445, \"score\": 2.2}, {\"quintile\": 0.0, \"rank\": 78.0, \"latitude\": 41.8755546, \"school_name\": \"Loyola University Chicago\\u00a0\", \"school_location\": \"Chicago, IL\", \"longitude\": -87.6244211, \"score\": 2.2}, {\"quintile\": 0.0, \"rank\": 78.0, \"latitude\": 29.9499323, \"school_name\": \"Tulane University\\u00a0\", \"school_location\": \"New Orleans, LA\", \"longitude\": -90.0701155, \"score\": 2.2}, {\"quintile\": 0.0, \"rank\": 78.0, \"latitude\": 42.8867166, \"school_name\": \"University at Buffalo\\u2014\\u200bSUNY\\u00a0\", \"school_location\": \"Buffalo, NY\", \"longitude\": -78.8783921, \"score\": 2.2}, {\"quintile\": 0.0, \"rank\": 78.0, \"latitude\": 38.951883, \"school_name\": \"University of Missouri\\u00a0\", \"school_location\": \"Columbia, MO\", \"longitude\": -92.3337365, \"score\": 2.2}, {\"quintile\": 0.0, \"rank\": 78.0, \"latitude\": 35.0841034, \"school_name\": \"University of New Mexico\\u00a0\", \"school_location\": \"Albuquerque, NM\", \"longitude\": -106.650985, \"score\": 2.2}, {\"quintile\": 0.0, \"rank\": 84.0, \"latitude\": 38.8949549, \"school_name\": \"American University\\u00a0\", \"school_location\": \"Washington, DC\", \"longitude\": -77.0366455, \"score\": 2.1}, {\"quintile\": 0.0, \"rank\": 84.0, \"latitude\": 31.549333, \"school_name\": \"Baylor University\\u00a0\", \"school_location\": \"Waco, TX\", \"longitude\": -97.1466694, \"score\": 2.1}, {\"quintile\": 0.0, \"rank\": 84.0, \"latitude\": 40.5508527, \"school_name\": \"Colorado State University\\u00a0\", \"school_location\": \"Fort Collins, CO\", \"longitude\": -105.0668084, \"score\": 2.1}, {\"quintile\": 0.0, \"rank\": 84.0, \"latitude\": 38.8949549, \"school_name\": \"Howard University\\u00a0\", \"school_location\": \"Washington, DC\", \"longitude\": -77.0366455, \"score\": 2.1}, {\"quintile\": 0.0, \"rank\": 84.0, \"latitude\": 41.1536674, \"school_name\": \"Kent State University\\u00a0\", \"school_location\": \"Kent, OH\", \"longitude\": -81.3578859, \"score\": 2.1}, {\"quintile\": 0.0, \"rank\": 84.0, \"latitude\": 37.7274692, \"school_name\": \"Southern Illinois University\\u2014\\u200bCarbondale\\u00a0\", \"school_location\": \"Carbondale, IL\", \"longitude\": -89.2166549, \"score\": 2.1}, {\"quintile\": 0.0, \"rank\": 84.0, \"latitude\": 38.0464066, \"school_name\": \"University of Kentucky\\u00a0\", \"school_location\": \"Lexington, KY\", \"longitude\": -84.4970392, \"score\": 2.1}, {\"quintile\": 0.0, \"rank\": 84.0, \"latitude\": 25.6905515, \"school_name\": \"University of Miami\\u00a0\", \"school_location\": \"Coral Gables, FL\", \"longitude\": -80.235008879837, \"score\": 2.1}, {\"quintile\": 0.0, \"rank\": 84.0, \"latitude\": 43.1340949, \"school_name\": \"University of New Hampshire\\u00a0\", \"school_location\": \"Durham, NH\", \"longitude\": -70.9265126, \"score\": 2.1}, {\"quintile\": 0.0, \"rank\": 84.0, \"latitude\": 35.9603948, \"school_name\": \"University of Tennessee\\u2014\\u200bKnoxville\\u00a0\", \"school_location\": \"Knoxville, TN\", \"longitude\": -83.921026, \"score\": 2.1}, {\"quintile\": 0.0, \"rank\": 94.0, \"latitude\": 40.2338438, \"school_name\": \"Brigham Young University\\u2014\\u200bProvo\\u00a0\", \"school_location\": \"Provo, UT\", \"longitude\": -111.6585336, \"score\": 2.0}, {\"quintile\": 0.0, \"rank\": 94.0, \"latitude\": 40.85703325, \"school_name\": \"Fordham University\\u00a0\", \"school_location\": \"Bronx, NY\", \"longitude\": -73.8366960598775, \"score\": 2.0}, {\"quintile\": 0.0, \"rank\": 94.0, \"latitude\": 33.5206824, \"school_name\": \"University of Alabama\\u2014\\u200bBirmingham\\u00a0\", \"school_location\": \"Birmingham, AL\", \"longitude\": -86.8024325, \"score\": 2.0}, {\"quintile\": 0.0, \"rank\": 94.0, \"latitude\": 39.1014537, \"school_name\": \"University of Cincinnati\\u00a0\", \"school_location\": \"Cincinnati, OH\", \"longitude\": -84.5124601, \"score\": 2.0}, {\"quintile\": 0.0, \"rank\": 94.0, \"latitude\": 36.1662859, \"school_name\": \"University of Nevada\\u2014\\u200bLas Vegas\\u00a0\", \"school_location\": \"Las Vegas, NV\", \"longitude\": -115.1492249, \"score\": 2.0}, {\"quintile\": 0.0, \"rank\": 94.0, \"latitude\": 35.2225717, \"school_name\": \"University of Oklahoma\\u00a0\", \"school_location\": \"Norman, OK\", \"longitude\": -97.4394815, \"score\": 2.0}, {\"quintile\": null, \"rank\": null, \"latitude\": 38.8949549, \"school_name\": \"The Catholic University of America\\u00a0\", \"school_location\": \"Washington, DC\", \"longitude\": -77.0366455, \"score\": null}]}};\n",
       "var selector = \"#32149ca0-9039-46e2-ae75-fc4d40ee2ea9\";\n",
       "var type = \"vega-lite\";\n",
       "\n",
       "var output_area = this;\n",
       "require(['nbextensions/jupyter-vega/index'], function(vega) {\n",
       "  vega.render(selector, spec, type, output_area);\n",
       "}, function (err) {\n",
       "  if (err.requireType !== 'scripterror') {\n",
       "    throw(err);\n",
       "  }\n",
       "});\n"
      ]
     },
     "metadata": {
      "jupyter-vega": "#32149ca0-9039-46e2-ae75-fc4d40ee2ea9"
     },
     "output_type": "display_data"
    },
    {
     "data": {
      "image/png": "[encoded data removed]"
     },
     "metadata": {
      "jupyter-vega": "#32149ca0-9039-46e2-ae75-fc4d40ee2ea9"
     },
     "output_type": "display_data"
    }
   ],
   "source": [
    "from altair import Chart, X, Y, Axis, Scale\n",
    "\n",
    "Chart(us_news_df_clean).mark_circle(\n",
    "    size=100,\n",
    "    opacity=0.6\n",
    ").encode(\n",
    "    x=X('longitude:Q', axis=Axis(title=' ')),\n",
    "    y=Y('latitude:Q', axis=Axis(title=' ')),\n",
    "        #scale=Scale(domain=(-60, 80))),\n",
    "    color='quintile:N',\n",
    ").configure_cell(\n",
    "    width=800,\n",
    "    height=350\n",
    ").configure_axis(\n",
    "    grid=False,\n",
    "    axisWidth=0,\n",
    "    tickWidth=0,\n",
    "    labels=False,\n",
    "\n",
    ")"
   ]
  },
  {
   "cell_type": "markdown",
   "metadata": {},
   "source": [
    "# Review\n",
    "In this tutorial, we learned how to examine the html structure of webpage and use a function based on the `Beautiful Soup` module to parse tables on multiple webpage into .csv. After creating a .csv of all webpage tables, we analyzed the .csv using the `Pandas` module. Lastly, we created vizualizations with the Altair library"
   ]
  },
  {
   "cell_type": "code",
   "execution_count": 24,
   "metadata": {
    "collapsed": false
   },
   "outputs": [
    {
     "name": "stdout",
     "output_type": "stream",
     "text": [
      "System and module version information: \n",
      "\n",
      "Python version: sys.version_info(major=3, minor=5, micro=2, releaselevel='final', serial=0)\n",
      "urllib.request version: 3.5\n",
      "pandas version: 0.18.1\n",
      "altair version: 1.0.0\n",
      "Beautiful Soup version: 4.5.1\n"
     ]
    }
   ],
   "source": [
    "import sys\n",
    "import altair\n",
    "import bs4\n",
    "print(\"System and module version information: \\n\")\n",
    "print('Python version:', sys.version_info)\n",
    "print('urllib.request version:', urllib.request.__version__)\n",
    "print('pandas version:', pd.__version__)\n",
    "print('altair version:',altair.__version__)\n",
    "print('Beautiful Soup version:', bs4.__version__)"
   ]
  }
 ],
 "metadata": {
  "anaconda-cloud": {},
  "kernelspec": {
   "display_name": "Python [default]",
   "language": "python",
   "name": "python3"
  },
  "language_info": {
   "codemirror_mode": {
    "name": "ipython",
    "version": 3
   },
   "file_extension": ".py",
   "mimetype": "text/x-python",
   "name": "python",
   "nbconvert_exporter": "python",
   "pygments_lexer": "ipython3",
   "version": "3.5.2"
  }
 },
 "nbformat": 4,
 "nbformat_minor": 1
}
