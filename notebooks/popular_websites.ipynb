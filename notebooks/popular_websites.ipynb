{
 "cells": [
  {
   "cell_type": "markdown",
   "metadata": {},
   "source": [
    "# Python for Webscraping\n",
    "* SOC 590: Big Data and Population Processes\n",
    "* 17th October 2016\n",
    "\n",
    "## Tutorial 1: Webscraping a table to .csv"
   ]
  },
  {
   "cell_type": "markdown",
   "metadata": {},
   "source": [
    "* import relevant modules\n",
    "* standard library modules:\n",
    "    * [os](https://docs.python.org/3/library/os.html)\n",
    "    * [csv](https://docs.python.org/3/library/csv.html)\n",
    "    * [urllib](https://docs.python.org/3/library/urllib.html)\n",
    "    * [webbrowser](https://docs.python.org/3/library/webbrowser.html)\n",
    "* open source modules:\n",
    "    * [numpy](http://www.numpy.org/)\n",
    "    * [pandas](http://pandas.pydata.org)\n",
    "    * [matplotlib](http://matplotlib.org/)\n",
    "    * [altair](https://github.com/altair-viz/altair)\n",
    "    * [Beautiful Soup](https://www.crummy.com/software/BeautifulSoup/bs4/doc/)"
   ]
  },
  {
   "cell_type": "code",
   "execution_count": 1,
   "metadata": {
    "collapsed": false
   },
   "outputs": [],
   "source": [
    "import os\n",
    "import csv\n",
    "import urllib\n",
    "import webbrowser\n",
    "import numpy as np\n",
    "import pandas as pd\n",
    "import matplotlib.pyplot as plt\n",
    "from altair import * \n",
    "from bs4 import BeautifulSoup\n",
    "%matplotlib inline"
   ]
  },
  {
   "cell_type": "markdown",
   "metadata": {},
   "source": [
    "* make a data folder"
   ]
  },
  {
   "cell_type": "code",
   "execution_count": 2,
   "metadata": {
    "collapsed": false
   },
   "outputs": [],
   "source": [
    "if not os.path.exists('../data/'):\n",
    "    os.makedirs('../data/')"
   ]
  },
  {
   "cell_type": "markdown",
   "metadata": {},
   "source": [
    "* open List of popular websites on Wikipedia"
   ]
  },
  {
   "cell_type": "code",
   "execution_count": 3,
   "metadata": {
    "collapsed": false
   },
   "outputs": [
    {
     "data": {
      "text/plain": [
       "True"
      ]
     },
     "execution_count": 3,
     "metadata": {},
     "output_type": "execute_result"
    }
   ],
   "source": [
    "url = 'https://en.wikipedia.org/wiki/List_of_most_popular_websites'\n",
    "webbrowser.open_new_tab(url)"
   ]
  },
  {
   "cell_type": "markdown",
   "metadata": {},
   "source": [
    "* make a soup for List of popular websites table with [html table tags](http://www.w3schools.com/html/html_tables.asp)\n",
    "* save soup as `wiki_popular_sites.csv`"
   ]
  },
  {
   "cell_type": "code",
   "execution_count": 4,
   "metadata": {
    "collapsed": false
   },
   "outputs": [],
   "source": [
    "soup = BeautifulSoup(urllib.request.urlopen('https://en.wikipedia.org/wiki/List_of_most_popular_websites'), \"lxml\")\n",
    "\n",
    "# <th> tag: defines a header cell in a table\n",
    "# <tr> tag: defines a row in a table \n",
    "# <td> tag: defines a cell in a table\n",
    "headers = [header.text for header in soup.findAll('th')]\n",
    "rows = []\n",
    "headers\n",
    "for row in soup.find_all('tr')[1:]:\n",
    "    rows.append([val.text for val in row.find_all_next('td',limit=6)])\n",
    "    \n",
    "\n",
    "with open('../data/wiki_popular_sites.csv', 'w') as f:\n",
    "    writer = csv.writer(f)\n",
    "    writer.writerow(headers)\n",
    "    writer.writerows(row for row in rows if row)"
   ]
  },
  {
   "cell_type": "markdown",
   "metadata": {},
   "source": [
    "* read in `wiki_popular_sites.csv` with `pandas`"
   ]
  },
  {
   "cell_type": "code",
   "execution_count": 5,
   "metadata": {
    "collapsed": false
   },
   "outputs": [
    {
     "data": {
      "text/html": [
       "<div>\n",
       "<table border=\"1\" class=\"dataframe\">\n",
       "  <thead>\n",
       "    <tr style=\"text-align: right;\">\n",
       "      <th></th>\n",
       "      <th>Site</th>\n",
       "      <th>Domain</th>\n",
       "      <th>Alexa top 100 websites\n",
       "(As of September 4, 2016)[3]</th>\n",
       "      <th>SimilarWeb top 100 websites\n",
       "(As of September 4, 2016)[4]</th>\n",
       "      <th>Type</th>\n",
       "      <th>Principal country</th>\n",
       "    </tr>\n",
       "  </thead>\n",
       "  <tbody>\n",
       "    <tr>\n",
       "      <th>0</th>\n",
       "      <td>Google</td>\n",
       "      <td>google.com</td>\n",
       "      <td>1</td>\n",
       "      <td>2</td>\n",
       "      <td>Internet services and products</td>\n",
       "      <td>U.S.</td>\n",
       "    </tr>\n",
       "    <tr>\n",
       "      <th>1</th>\n",
       "      <td>YouTube</td>\n",
       "      <td>youtube.com</td>\n",
       "      <td>2</td>\n",
       "      <td>3</td>\n",
       "      <td>Video sharing</td>\n",
       "      <td>U.S.</td>\n",
       "    </tr>\n",
       "    <tr>\n",
       "      <th>2</th>\n",
       "      <td>Facebook</td>\n",
       "      <td>facebook.com</td>\n",
       "      <td>3</td>\n",
       "      <td>1</td>\n",
       "      <td>Social network</td>\n",
       "      <td>U.S.</td>\n",
       "    </tr>\n",
       "    <tr>\n",
       "      <th>3</th>\n",
       "      <td>Baidu</td>\n",
       "      <td>baidu.com</td>\n",
       "      <td>4</td>\n",
       "      <td>16</td>\n",
       "      <td>Search engine</td>\n",
       "      <td>China</td>\n",
       "    </tr>\n",
       "    <tr>\n",
       "      <th>4</th>\n",
       "      <td>Yahoo!</td>\n",
       "      <td>yahoo.com</td>\n",
       "      <td>5</td>\n",
       "      <td>5</td>\n",
       "      <td>Portal and media</td>\n",
       "      <td>U.S.</td>\n",
       "    </tr>\n",
       "    <tr>\n",
       "      <th>5</th>\n",
       "      <td>Amazon</td>\n",
       "      <td>amazon.com</td>\n",
       "      <td>6</td>\n",
       "      <td>10</td>\n",
       "      <td>E-commerce and cloud computing</td>\n",
       "      <td>U.S.</td>\n",
       "    </tr>\n",
       "    <tr>\n",
       "      <th>6</th>\n",
       "      <td>Wikipedia</td>\n",
       "      <td>wikipedia.org</td>\n",
       "      <td>7</td>\n",
       "      <td>7</td>\n",
       "      <td>Encyclopedia</td>\n",
       "      <td>U.S.</td>\n",
       "    </tr>\n",
       "    <tr>\n",
       "      <th>7</th>\n",
       "      <td>Tencent QQ</td>\n",
       "      <td>qq.com</td>\n",
       "      <td>8</td>\n",
       "      <td>41</td>\n",
       "      <td>Portal</td>\n",
       "      <td>China</td>\n",
       "    </tr>\n",
       "    <tr>\n",
       "      <th>8</th>\n",
       "      <td>Google India</td>\n",
       "      <td>google.co.in</td>\n",
       "      <td>9</td>\n",
       "      <td>14</td>\n",
       "      <td>Search engine</td>\n",
       "      <td>India</td>\n",
       "    </tr>\n",
       "    <tr>\n",
       "      <th>9</th>\n",
       "      <td>Twitter</td>\n",
       "      <td>twitter.com</td>\n",
       "      <td>10</td>\n",
       "      <td>8</td>\n",
       "      <td>Social network</td>\n",
       "      <td>U.S.</td>\n",
       "    </tr>\n",
       "  </tbody>\n",
       "</table>\n",
       "</div>"
      ],
      "text/plain": [
       "           Site         Domain  \\\n",
       "0        Google     google.com   \n",
       "1       YouTube    youtube.com   \n",
       "2      Facebook   facebook.com   \n",
       "3         Baidu      baidu.com   \n",
       "4        Yahoo!      yahoo.com   \n",
       "5        Amazon     amazon.com   \n",
       "6     Wikipedia  wikipedia.org   \n",
       "7    Tencent QQ         qq.com   \n",
       "8  Google India   google.co.in   \n",
       "9       Twitter    twitter.com   \n",
       "\n",
       "  Alexa top 100 websites\\n(As of September 4, 2016)[3]  \\\n",
       "0                                                  1     \n",
       "1                                                  2     \n",
       "2                                                  3     \n",
       "3                                                  4     \n",
       "4                                                  5     \n",
       "5                                                  6     \n",
       "6                                                  7     \n",
       "7                                                  8     \n",
       "8                                                  9     \n",
       "9                                                 10     \n",
       "\n",
       "  SimilarWeb top 100 websites\\n(As of September 4, 2016)[4]  \\\n",
       "0                                                  2          \n",
       "1                                                  3          \n",
       "2                                                  1          \n",
       "3                                                 16          \n",
       "4                                                  5          \n",
       "5                                                 10          \n",
       "6                                                  7          \n",
       "7                                                 41          \n",
       "8                                                 14          \n",
       "9                                                  8          \n",
       "\n",
       "                             Type \\nPrincipal country\\n  \n",
       "0  Internet services and products                  U.S.  \n",
       "1                   Video sharing                  U.S.  \n",
       "2                  Social network                  U.S.  \n",
       "3                   Search engine                 China  \n",
       "4                Portal and media                  U.S.  \n",
       "5  E-commerce and cloud computing                  U.S.  \n",
       "6                    Encyclopedia                  U.S.  \n",
       "7                          Portal                 China  \n",
       "8                   Search engine                 India  \n",
       "9                  Social network                  U.S.  "
      ]
     },
     "execution_count": 5,
     "metadata": {},
     "output_type": "execute_result"
    }
   ],
   "source": [
    "wiki_popular_sites = pd.read_csv(\"../data/wiki_popular_sites.csv\")\n",
    "wiki_popular_sites.head(10)"
   ]
  },
  {
   "cell_type": "code",
   "execution_count": 6,
   "metadata": {
    "collapsed": false
   },
   "outputs": [
    {
     "data": {
      "text/plain": [
       "Index(['Site', 'Domain',\n",
       "       'Alexa top 100 websites\\n(As of September 4, 2016)[3]',\n",
       "       'SimilarWeb top 100 websites\\n(As of September 4, 2016)[4]', 'Type',\n",
       "       '\\nPrincipal country\\n'],\n",
       "      dtype='object')"
      ]
     },
     "execution_count": 6,
     "metadata": {},
     "output_type": "execute_result"
    }
   ],
   "source": [
    "wiki_popular_sites.columns"
   ]
  },
  {
   "cell_type": "markdown",
   "metadata": {},
   "source": [
    "* rename columns"
   ]
  },
  {
   "cell_type": "code",
   "execution_count": 7,
   "metadata": {
    "collapsed": false
   },
   "outputs": [
    {
     "data": {
      "text/plain": [
       "Index(['Site', 'Domain', 'Alexa top 100 websites',\n",
       "       'SimilarWeb top 100 websites', 'Type', 'Principal country'],\n",
       "      dtype='object')"
      ]
     },
     "execution_count": 7,
     "metadata": {},
     "output_type": "execute_result"
    }
   ],
   "source": [
    "columns = [\"Site\", \"Domain\", \"Alexa top 100 websites\", \"SimilarWeb top 100 websites\", \"Type\", \"Principal country\"]\n",
    "wiki_popular_sites.columns = columns\n",
    "wiki_popular_sites.columns"
   ]
  },
  {
   "cell_type": "markdown",
   "metadata": {},
   "source": [
    "* basic descriptives"
   ]
  },
  {
   "cell_type": "code",
   "execution_count": 8,
   "metadata": {
    "collapsed": false
   },
   "outputs": [
    {
     "data": {
      "text/html": [
       "<div>\n",
       "<table border=\"1\" class=\"dataframe\">\n",
       "  <thead>\n",
       "    <tr style=\"text-align: right;\">\n",
       "      <th></th>\n",
       "      <th>Site</th>\n",
       "      <th>Domain</th>\n",
       "      <th>Alexa top 100 websites</th>\n",
       "      <th>SimilarWeb top 100 websites</th>\n",
       "      <th>Type</th>\n",
       "      <th>Principal country</th>\n",
       "    </tr>\n",
       "  </thead>\n",
       "  <tbody>\n",
       "    <tr>\n",
       "      <th>count</th>\n",
       "      <td>124</td>\n",
       "      <td>124</td>\n",
       "      <td>124</td>\n",
       "      <td>124</td>\n",
       "      <td>124</td>\n",
       "      <td>124</td>\n",
       "    </tr>\n",
       "    <tr>\n",
       "      <th>unique</th>\n",
       "      <td>124</td>\n",
       "      <td>124</td>\n",
       "      <td>124</td>\n",
       "      <td>121</td>\n",
       "      <td>60</td>\n",
       "      <td>31</td>\n",
       "    </tr>\n",
       "    <tr>\n",
       "      <th>top</th>\n",
       "      <td>CNTV</td>\n",
       "      <td>office.com</td>\n",
       "      <td>30447</td>\n",
       "      <td>N/A[notes 1]</td>\n",
       "      <td>Search engine</td>\n",
       "      <td>U.S.</td>\n",
       "    </tr>\n",
       "    <tr>\n",
       "      <th>freq</th>\n",
       "      <td>1</td>\n",
       "      <td>1</td>\n",
       "      <td>1</td>\n",
       "      <td>3</td>\n",
       "      <td>26</td>\n",
       "      <td>48</td>\n",
       "    </tr>\n",
       "  </tbody>\n",
       "</table>\n",
       "</div>"
      ],
      "text/plain": [
       "        Site      Domain Alexa top 100 websites SimilarWeb top 100 websites  \\\n",
       "count    124         124                    124                         124   \n",
       "unique   124         124                    124                         121   \n",
       "top     CNTV  office.com                  30447                N/A[notes 1]   \n",
       "freq       1           1                      1                           3   \n",
       "\n",
       "                 Type Principal country  \n",
       "count             124               124  \n",
       "unique             60                31  \n",
       "top     Search engine              U.S.  \n",
       "freq               26                48  "
      ]
     },
     "execution_count": 8,
     "metadata": {},
     "output_type": "execute_result"
    }
   ],
   "source": [
    "wiki_popular_sites.describe()"
   ]
  },
  {
   "cell_type": "code",
   "execution_count": 9,
   "metadata": {
    "collapsed": false
   },
   "outputs": [
    {
     "data": {
      "text/plain": [
       "array(['Internet services and products', 'Video sharing', 'Social network',\n",
       "       'Search engine', 'Portal and media',\n",
       "       'E-commerce and cloud computing', 'Encyclopedia', 'Portal',\n",
       "       'Email, web services and software suite', 'Online shopping',\n",
       "       'Photo sharing and social media', 'Portal and instant messaging',\n",
       "       'Professional Social network', 'Web directories',\n",
       "       'social news networking, entertainment',\n",
       "       'Online auctions and shopping',\n",
       "       'URL shortening for links on Twitter', 'Retail',\n",
       "       'Internet security and anti-trojan software', 'E-commerce',\n",
       "       'Social media', 'Online advertising network',\n",
       "       'Streaming TV and movies', 'Software and technology',\n",
       "       'Blogging and social media', 'Newspaper', 'Payment system',\n",
       "       'Blogging', 'Image sharing', 'Question and answer site',\n",
       "       'Social Networking', 'Technology and software',\n",
       "       'Source code hosting service', 'Search Engine', 'Pornography',\n",
       "       'Film, TV show, and video game database', 'Instant Messaging',\n",
       "       'Online Office Suite', 'Internet forum', 'Classified advertising',\n",
       "       'File hosting service', 'News', 'Content marketing',\n",
       "       'Social network, photo sharing, blogging', 'E-commerce and portal',\n",
       "       'Software as a service', 'Booking engine', 'Pop-up advertising',\n",
       "       'Television', 'Entertainment', 'Search engine and web browser',\n",
       "       'Livestreams', 'Wikis', 'Disney portal', 'Torrents', 'Ad serving',\n",
       "       'Web portal', 'Advertising', 'Weather forecasting',\n",
       "       'Webpage transcoder for slow connections'], dtype=object)"
      ]
     },
     "execution_count": 9,
     "metadata": {},
     "output_type": "execute_result"
    }
   ],
   "source": [
    "wiki_popular_sites['Type'].unique()"
   ]
  },
  {
   "cell_type": "code",
   "execution_count": 10,
   "metadata": {
    "collapsed": false
   },
   "outputs": [
    {
     "data": {
      "text/plain": [
       "array([' U.S.', ' China', ' India', ' Japan', ' Russia', ' Germany', ' UK',\n",
       "       ' France', ' Brazil', ' Italy', ' Spain', ' Korea', ' Mexico',\n",
       "       ' Canada', ' Hong Kong', ' Cyprus', ' Turkey', ' Indonesia',\n",
       "       ' Poland', ' Taiwan', ' Netherlands', ' Australia', ' Costa Rica',\n",
       "       ' Vietnam', ' U.K.', ' Thailand', ' Argentina', ' Poland[5]',\n",
       "       ' Ukraine', ' Colombia', '\\xa0Philippines'], dtype=object)"
      ]
     },
     "execution_count": 10,
     "metadata": {},
     "output_type": "execute_result"
    }
   ],
   "source": [
    "wiki_popular_sites['Principal country'].unique()"
   ]
  },
  {
   "cell_type": "markdown",
   "metadata": {},
   "source": [
    "* use `pandas` groupby function to group websites by Type and Principal coutry\n",
    "* .iloc subsets the result to only inlcude the first two columns by index"
   ]
  },
  {
   "cell_type": "code",
   "execution_count": 11,
   "metadata": {
    "collapsed": false
   },
   "outputs": [],
   "source": [
    "grouped_sites = wiki_popular_sites.groupby(['Type','Principal country']).count()"
   ]
  },
  {
   "cell_type": "code",
   "execution_count": 12,
   "metadata": {
    "collapsed": false
   },
   "outputs": [
    {
     "data": {
      "text/html": [
       "<div>\n",
       "<table border=\"1\" class=\"dataframe\">\n",
       "  <thead>\n",
       "    <tr style=\"text-align: right;\">\n",
       "      <th></th>\n",
       "      <th></th>\n",
       "      <th>Site</th>\n",
       "    </tr>\n",
       "    <tr>\n",
       "      <th>Type</th>\n",
       "      <th>Principal country</th>\n",
       "      <th></th>\n",
       "    </tr>\n",
       "  </thead>\n",
       "  <tbody>\n",
       "    <tr>\n",
       "      <th>Ad serving</th>\n",
       "      <th>U.S.</th>\n",
       "      <td>1</td>\n",
       "    </tr>\n",
       "    <tr>\n",
       "      <th>Advertising</th>\n",
       "      <th>U.S.</th>\n",
       "      <td>1</td>\n",
       "    </tr>\n",
       "    <tr>\n",
       "      <th>Blogging</th>\n",
       "      <th>U.S.</th>\n",
       "      <td>2</td>\n",
       "    </tr>\n",
       "    <tr>\n",
       "      <th>Blogging and social media</th>\n",
       "      <th>U.S.</th>\n",
       "      <td>1</td>\n",
       "    </tr>\n",
       "    <tr>\n",
       "      <th>Booking engine</th>\n",
       "      <th>Netherlands</th>\n",
       "      <td>1</td>\n",
       "    </tr>\n",
       "    <tr>\n",
       "      <th>Classified advertising</th>\n",
       "      <th>U.S.</th>\n",
       "      <td>1</td>\n",
       "    </tr>\n",
       "    <tr>\n",
       "      <th>Content marketing</th>\n",
       "      <th>U.S.</th>\n",
       "      <td>1</td>\n",
       "    </tr>\n",
       "    <tr>\n",
       "      <th>Disney portal</th>\n",
       "      <th>U.S.</th>\n",
       "      <td>1</td>\n",
       "    </tr>\n",
       "    <tr>\n",
       "      <th rowspan=\"7\" valign=\"top\">E-commerce</th>\n",
       "      <th>China</th>\n",
       "      <td>1</td>\n",
       "    </tr>\n",
       "    <tr>\n",
       "      <th>Germany</th>\n",
       "      <td>1</td>\n",
       "    </tr>\n",
       "    <tr>\n",
       "      <th>India</th>\n",
       "      <td>1</td>\n",
       "    </tr>\n",
       "    <tr>\n",
       "      <th>Japan</th>\n",
       "      <td>2</td>\n",
       "    </tr>\n",
       "    <tr>\n",
       "      <th>Russia</th>\n",
       "      <td>1</td>\n",
       "    </tr>\n",
       "    <tr>\n",
       "      <th>U.K.</th>\n",
       "      <td>1</td>\n",
       "    </tr>\n",
       "    <tr>\n",
       "      <th>UK</th>\n",
       "      <td>1</td>\n",
       "    </tr>\n",
       "    <tr>\n",
       "      <th>E-commerce and cloud computing</th>\n",
       "      <th>U.S.</th>\n",
       "      <td>1</td>\n",
       "    </tr>\n",
       "    <tr>\n",
       "      <th>E-commerce and portal</th>\n",
       "      <th>China</th>\n",
       "      <td>1</td>\n",
       "    </tr>\n",
       "    <tr>\n",
       "      <th>Email, web services and software suite</th>\n",
       "      <th>U.S.</th>\n",
       "      <td>1</td>\n",
       "    </tr>\n",
       "    <tr>\n",
       "      <th>Encyclopedia</th>\n",
       "      <th>U.S.</th>\n",
       "      <td>1</td>\n",
       "    </tr>\n",
       "    <tr>\n",
       "      <th>Entertainment</th>\n",
       "      <th>Canada</th>\n",
       "      <td>1</td>\n",
       "    </tr>\n",
       "    <tr>\n",
       "      <th>File hosting service</th>\n",
       "      <th>U.S.</th>\n",
       "      <td>2</td>\n",
       "    </tr>\n",
       "    <tr>\n",
       "      <th>Film, TV show, and video game database</th>\n",
       "      <th>U.S.</th>\n",
       "      <td>1</td>\n",
       "    </tr>\n",
       "    <tr>\n",
       "      <th>Image sharing</th>\n",
       "      <th>U.S.</th>\n",
       "      <td>1</td>\n",
       "    </tr>\n",
       "    <tr>\n",
       "      <th>Instant Messaging</th>\n",
       "      <th>U.S.</th>\n",
       "      <td>1</td>\n",
       "    </tr>\n",
       "    <tr>\n",
       "      <th>Internet forum</th>\n",
       "      <th>China</th>\n",
       "      <td>1</td>\n",
       "    </tr>\n",
       "    <tr>\n",
       "      <th>Internet security and anti-trojan software</th>\n",
       "      <th>China</th>\n",
       "      <td>1</td>\n",
       "    </tr>\n",
       "    <tr>\n",
       "      <th>Internet services and products</th>\n",
       "      <th>U.S.</th>\n",
       "      <td>1</td>\n",
       "    </tr>\n",
       "    <tr>\n",
       "      <th>Livestreams</th>\n",
       "      <th>U.S.</th>\n",
       "      <td>1</td>\n",
       "    </tr>\n",
       "    <tr>\n",
       "      <th rowspan=\"2\" valign=\"top\">News</th>\n",
       "      <th>China</th>\n",
       "      <td>1</td>\n",
       "    </tr>\n",
       "    <tr>\n",
       "      <th>U.K.</th>\n",
       "      <td>1</td>\n",
       "    </tr>\n",
       "    <tr>\n",
       "      <th>...</th>\n",
       "      <th>...</th>\n",
       "      <td>...</td>\n",
       "    </tr>\n",
       "    <tr>\n",
       "      <th rowspan=\"5\" valign=\"top\">Search engine</th>\n",
       "      <th>U.S.</th>\n",
       "      <td>1</td>\n",
       "    </tr>\n",
       "    <tr>\n",
       "      <th>UK</th>\n",
       "      <td>1</td>\n",
       "    </tr>\n",
       "    <tr>\n",
       "      <th>Ukraine</th>\n",
       "      <td>1</td>\n",
       "    </tr>\n",
       "    <tr>\n",
       "      <th>Vietnam</th>\n",
       "      <td>1</td>\n",
       "    </tr>\n",
       "    <tr>\n",
       "      <th>Philippines</th>\n",
       "      <td>1</td>\n",
       "    </tr>\n",
       "    <tr>\n",
       "      <th>Search engine and web browser</th>\n",
       "      <th>Vietnam</th>\n",
       "      <td>1</td>\n",
       "    </tr>\n",
       "    <tr>\n",
       "      <th>Social Networking</th>\n",
       "      <th>Russia</th>\n",
       "      <td>1</td>\n",
       "    </tr>\n",
       "    <tr>\n",
       "      <th>Social media</th>\n",
       "      <th>U.S.</th>\n",
       "      <td>2</td>\n",
       "    </tr>\n",
       "    <tr>\n",
       "      <th rowspan=\"3\" valign=\"top\">Social network</th>\n",
       "      <th>China</th>\n",
       "      <td>1</td>\n",
       "    </tr>\n",
       "    <tr>\n",
       "      <th>Russia</th>\n",
       "      <td>1</td>\n",
       "    </tr>\n",
       "    <tr>\n",
       "      <th>U.S.</th>\n",
       "      <td>2</td>\n",
       "    </tr>\n",
       "    <tr>\n",
       "      <th>Social network, photo sharing, blogging</th>\n",
       "      <th>Taiwan</th>\n",
       "      <td>1</td>\n",
       "    </tr>\n",
       "    <tr>\n",
       "      <th rowspan=\"2\" valign=\"top\">Software and technology</th>\n",
       "      <th>Spain</th>\n",
       "      <td>1</td>\n",
       "    </tr>\n",
       "    <tr>\n",
       "      <th>U.S.</th>\n",
       "      <td>1</td>\n",
       "    </tr>\n",
       "    <tr>\n",
       "      <th>Software as a service</th>\n",
       "      <th>U.S.</th>\n",
       "      <td>1</td>\n",
       "    </tr>\n",
       "    <tr>\n",
       "      <th>Source code hosting service</th>\n",
       "      <th>U.S.</th>\n",
       "      <td>1</td>\n",
       "    </tr>\n",
       "    <tr>\n",
       "      <th>Streaming TV and movies</th>\n",
       "      <th>U.S.</th>\n",
       "      <td>1</td>\n",
       "    </tr>\n",
       "    <tr>\n",
       "      <th>Technology and software</th>\n",
       "      <th>U.S.</th>\n",
       "      <td>1</td>\n",
       "    </tr>\n",
       "    <tr>\n",
       "      <th>Television</th>\n",
       "      <th>China</th>\n",
       "      <td>1</td>\n",
       "    </tr>\n",
       "    <tr>\n",
       "      <th>Torrents</th>\n",
       "      <th>Costa Rica</th>\n",
       "      <td>1</td>\n",
       "    </tr>\n",
       "    <tr>\n",
       "      <th>URL shortening for links on Twitter</th>\n",
       "      <th>U.S.</th>\n",
       "      <td>1</td>\n",
       "    </tr>\n",
       "    <tr>\n",
       "      <th rowspan=\"3\" valign=\"top\">Video sharing</th>\n",
       "      <th>China</th>\n",
       "      <td>2</td>\n",
       "    </tr>\n",
       "    <tr>\n",
       "      <th>Japan</th>\n",
       "      <td>1</td>\n",
       "    </tr>\n",
       "    <tr>\n",
       "      <th>U.S.</th>\n",
       "      <td>1</td>\n",
       "    </tr>\n",
       "    <tr>\n",
       "      <th>Weather forecasting</th>\n",
       "      <th>U.S.</th>\n",
       "      <td>1</td>\n",
       "    </tr>\n",
       "    <tr>\n",
       "      <th>Web directories</th>\n",
       "      <th>China</th>\n",
       "      <td>1</td>\n",
       "    </tr>\n",
       "    <tr>\n",
       "      <th>Web portal</th>\n",
       "      <th>Poland</th>\n",
       "      <td>1</td>\n",
       "    </tr>\n",
       "    <tr>\n",
       "      <th>Webpage transcoder for slow connections</th>\n",
       "      <th>U.S.</th>\n",
       "      <td>1</td>\n",
       "    </tr>\n",
       "    <tr>\n",
       "      <th>Wikis</th>\n",
       "      <th>U.S.</th>\n",
       "      <td>1</td>\n",
       "    </tr>\n",
       "    <tr>\n",
       "      <th>social news networking, entertainment</th>\n",
       "      <th>U.S.</th>\n",
       "      <td>1</td>\n",
       "    </tr>\n",
       "  </tbody>\n",
       "</table>\n",
       "<p>107 rows × 1 columns</p>\n",
       "</div>"
      ],
      "text/plain": [
       "                                                              Site\n",
       "Type                                       Principal country      \n",
       "Ad serving                                  U.S.                 1\n",
       "Advertising                                 U.S.                 1\n",
       "Blogging                                    U.S.                 2\n",
       "Blogging and social media                   U.S.                 1\n",
       "Booking engine                              Netherlands          1\n",
       "Classified advertising                      U.S.                 1\n",
       "Content marketing                           U.S.                 1\n",
       "Disney portal                               U.S.                 1\n",
       "E-commerce                                  China                1\n",
       "                                            Germany              1\n",
       "                                            India                1\n",
       "                                            Japan                2\n",
       "                                            Russia               1\n",
       "                                            U.K.                 1\n",
       "                                            UK                   1\n",
       "E-commerce and cloud computing              U.S.                 1\n",
       "E-commerce and portal                       China                1\n",
       "Email, web services and software suite      U.S.                 1\n",
       "Encyclopedia                                U.S.                 1\n",
       "Entertainment                               Canada               1\n",
       "File hosting service                        U.S.                 2\n",
       "Film, TV show, and video game database      U.S.                 1\n",
       "Image sharing                               U.S.                 1\n",
       "Instant Messaging                           U.S.                 1\n",
       "Internet forum                              China                1\n",
       "Internet security and anti-trojan software  China                1\n",
       "Internet services and products              U.S.                 1\n",
       "Livestreams                                 U.S.                 1\n",
       "News                                        China                1\n",
       "                                            U.K.                 1\n",
       "...                                                            ...\n",
       "Search engine                               U.S.                 1\n",
       "                                            UK                   1\n",
       "                                            Ukraine              1\n",
       "                                            Vietnam              1\n",
       "                                            Philippines          1\n",
       "Search engine and web browser               Vietnam              1\n",
       "Social Networking                           Russia               1\n",
       "Social media                                U.S.                 2\n",
       "Social network                              China                1\n",
       "                                            Russia               1\n",
       "                                            U.S.                 2\n",
       "Social network, photo sharing, blogging     Taiwan               1\n",
       "Software and technology                     Spain                1\n",
       "                                            U.S.                 1\n",
       "Software as a service                       U.S.                 1\n",
       "Source code hosting service                 U.S.                 1\n",
       "Streaming TV and movies                     U.S.                 1\n",
       "Technology and software                     U.S.                 1\n",
       "Television                                  China                1\n",
       "Torrents                                    Costa Rica           1\n",
       "URL shortening for links on Twitter         U.S.                 1\n",
       "Video sharing                               China                2\n",
       "                                            Japan                1\n",
       "                                            U.S.                 1\n",
       "Weather forecasting                         U.S.                 1\n",
       "Web directories                             China                1\n",
       "Web portal                                  Poland               1\n",
       "Webpage transcoder for slow connections     U.S.                 1\n",
       "Wikis                                       U.S.                 1\n",
       "social news networking, entertainment       U.S.                 1\n",
       "\n",
       "[107 rows x 1 columns]"
      ]
     },
     "execution_count": 12,
     "metadata": {},
     "output_type": "execute_result"
    }
   ],
   "source": [
    "grouped_sites.iloc[:,0:1]"
   ]
  },
  {
   "cell_type": "markdown",
   "metadata": {},
   "source": [
    "* create a pivot table aggregating all countries in the table"
   ]
  },
  {
   "cell_type": "code",
   "execution_count": 13,
   "metadata": {
    "collapsed": false
   },
   "outputs": [
    {
     "data": {
      "text/plain": [
       "Principal country\n",
       " Argentina      1\n",
       " Australia      1\n",
       " Brazil         3\n",
       " Canada         3\n",
       " China         23\n",
       " Colombia       1\n",
       " Costa Rica     2\n",
       " Cyprus         1\n",
       " France         1\n",
       " Germany        2\n",
       "Name: Type, dtype: int64"
      ]
     },
     "execution_count": 13,
     "metadata": {},
     "output_type": "execute_result"
    }
   ],
   "source": [
    "by_country = wiki_popular_sites.pivot_table('Type', aggfunc='count', columns='Principal country')\n",
    "by_country.head(10)"
   ]
  },
  {
   "cell_type": "markdown",
   "metadata": {},
   "source": [
    "* make a historgram of countries represented in the Wikipedia data set"
   ]
  },
  {
   "cell_type": "code",
   "execution_count": 14,
   "metadata": {
    "collapsed": false
   },
   "outputs": [
    {
     "data": {
      "image/png": "[encoded data removed]",
      "text/plain": [
       "<matplotlib.figure.Figure at 0x118a404a8>"
      ]
     },
     "metadata": {},
     "output_type": "display_data"
    }
   ],
   "source": [
    "fig, ax = plt.subplots(1, figsize=(12, 8))\n",
    "fig.subplots_adjust(hspace=0.4)\n",
    "plt.hist(by_country, bins = 50, color='blue')\n",
    "plt.xticks(np.arange(0, by_country.max()+1, 2))\n",
    "plt.yticks(np.arange(0, by_country.value_counts().max()+10, 5))\n",
    "plt.xlabel('Count')\n",
    "plt.ylabel('Frequency')\n",
    "plt.title('Histogram of country frequency in \\n List of Popular Websites (Wikipedia)')\n",
    "plt.show()"
   ]
  },
  {
   "cell_type": "markdown",
   "metadata": {},
   "source": [
    "* convert by_country series to a data frame for plotting with altair"
   ]
  },
  {
   "cell_type": "code",
   "execution_count": 15,
   "metadata": {
    "collapsed": true
   },
   "outputs": [],
   "source": [
    "by_country_df = pd.DataFrame(by_country)"
   ]
  },
  {
   "cell_type": "code",
   "execution_count": 16,
   "metadata": {
    "collapsed": false
   },
   "outputs": [
    {
     "data": {
      "text/html": [
       "<div class=\"vega-embed\" id=\"3cdb73d0-5896-4088-99d2-a98d59b76955\"></div>\n",
       "\n",
       "<style>\n",
       ".vega-embed svg, .vega-embed canvas {\n",
       "  border: 1px dotted gray;\n",
       "}\n",
       "\n",
       ".vega-embed .vega-actions a {\n",
       "  margin-right: 6px;\n",
       "}\n",
       "</style>\n"
      ]
     },
     "metadata": {
      "jupyter-vega": "#3cdb73d0-5896-4088-99d2-a98d59b76955"
     },
     "output_type": "display_data"
    },
    {
     "data": {
      "application/javascript": [
       "var spec = {\"encoding\": {\"x\": {\"type\": \"quantitative\", \"field\": \"Type\", \"bin\": {\"maxbins\": 50.0}}, \"y\": {\"aggregate\": \"count\", \"type\": \"quantitative\", \"field\": \"*\"}}, \"mark\": \"bar\", \"config\": {\"cell\": {\"height\": 350, \"width\": 500}}, \"data\": {\"values\": [{\"Type\": 1}, {\"Type\": 1}, {\"Type\": 3}, {\"Type\": 3}, {\"Type\": 23}, {\"Type\": 1}, {\"Type\": 2}, {\"Type\": 1}, {\"Type\": 1}, {\"Type\": 2}, {\"Type\": 1}, {\"Type\": 2}, {\"Type\": 1}, {\"Type\": 1}, {\"Type\": 6}, {\"Type\": 2}, {\"Type\": 1}, {\"Type\": 2}, {\"Type\": 2}, {\"Type\": 1}, {\"Type\": 6}, {\"Type\": 1}, {\"Type\": 2}, {\"Type\": 1}, {\"Type\": 1}, {\"Type\": 2}, {\"Type\": 48}, {\"Type\": 2}, {\"Type\": 1}, {\"Type\": 2}, {\"Type\": 1}]}};\n",
       "var selector = \"#3cdb73d0-5896-4088-99d2-a98d59b76955\";\n",
       "var type = \"vega-lite\";\n",
       "\n",
       "var output_area = this;\n",
       "require(['nbextensions/jupyter-vega/index'], function(vega) {\n",
       "  vega.render(selector, spec, type, output_area);\n",
       "}, function (err) {\n",
       "  if (err.requireType !== 'scripterror') {\n",
       "    throw(err);\n",
       "  }\n",
       "});\n"
      ]
     },
     "metadata": {
      "jupyter-vega": "#3cdb73d0-5896-4088-99d2-a98d59b76955"
     },
     "output_type": "display_data"
    },
    {
     "data": {
      "image/png": "[encoded data removed]"
     },
     "metadata": {
      "jupyter-vega": "#3cdb73d0-5896-4088-99d2-a98d59b76955"
     },
     "output_type": "display_data"
    }
   ],
   "source": [
    "Chart(by_country_df).mark_bar().encode(\n",
    "    x=X('Type:Q',\n",
    "        bin=Bin(\n",
    "            maxbins=50.0,\n",
    "        ),\n",
    "    ),\n",
    "    y='count(*):Q',\n",
    "       \n",
    ")\n"
   ]
  },
  {
   "cell_type": "code",
   "execution_count": null,
   "metadata": {
    "collapsed": true
   },
   "outputs": [],
   "source": []
  }
 ],
 "metadata": {
  "anaconda-cloud": {},
  "kernelspec": {
   "display_name": "Python [default]",
   "language": "python",
   "name": "python3"
  },
  "language_info": {
   "codemirror_mode": {
    "name": "ipython",
    "version": 3
   },
   "file_extension": ".py",
   "mimetype": "text/x-python",
   "name": "python",
   "nbconvert_exporter": "python",
   "pygments_lexer": "ipython3",
   "version": "3.5.2"
  }
 },
 "nbformat": 4,
 "nbformat_minor": 1
}
